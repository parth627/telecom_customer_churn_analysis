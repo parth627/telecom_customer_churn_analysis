{
 "cells": [
  {
   "cell_type": "code",
   "execution_count": 3,
   "metadata": {},
   "outputs": [],
   "source": [
    "import numpy as np\n",
    "import pandas as pd\n",
    "import matplotlib.pyplot as plt\n",
    "import seaborn as sns"
   ]
  },
  {
   "cell_type": "code",
   "execution_count": 4,
   "metadata": {},
   "outputs": [],
   "source": [
    "churn = pd.read_csv(\"churn.csv\")"
   ]
  },
  {
   "cell_type": "code",
   "execution_count": 5,
   "metadata": {},
   "outputs": [
    {
     "data": {
      "text/html": [
       "<div>\n",
       "<style scoped>\n",
       "    .dataframe tbody tr th:only-of-type {\n",
       "        vertical-align: middle;\n",
       "    }\n",
       "\n",
       "    .dataframe tbody tr th {\n",
       "        vertical-align: top;\n",
       "    }\n",
       "\n",
       "    .dataframe thead th {\n",
       "        text-align: right;\n",
       "    }\n",
       "</style>\n",
       "<table border=\"1\" class=\"dataframe\">\n",
       "  <thead>\n",
       "    <tr style=\"text-align: right;\">\n",
       "      <th></th>\n",
       "      <th>State</th>\n",
       "      <th>Account Length</th>\n",
       "      <th>Area Code</th>\n",
       "      <th>Phone</th>\n",
       "      <th>Int'l Plan</th>\n",
       "      <th>VMail Plan</th>\n",
       "      <th>VMail Message</th>\n",
       "      <th>Day Mins</th>\n",
       "      <th>Day Calls</th>\n",
       "      <th>Day Charge</th>\n",
       "      <th>...</th>\n",
       "      <th>Eve Calls</th>\n",
       "      <th>Eve Charge</th>\n",
       "      <th>Night Mins</th>\n",
       "      <th>Night Calls</th>\n",
       "      <th>Night Charge</th>\n",
       "      <th>Intl Mins</th>\n",
       "      <th>Intl Calls</th>\n",
       "      <th>Intl Charge</th>\n",
       "      <th>CustServ Calls</th>\n",
       "      <th>Churn?</th>\n",
       "    </tr>\n",
       "  </thead>\n",
       "  <tbody>\n",
       "    <tr>\n",
       "      <th>0</th>\n",
       "      <td>KS</td>\n",
       "      <td>128</td>\n",
       "      <td>415</td>\n",
       "      <td>382-4657</td>\n",
       "      <td>no</td>\n",
       "      <td>yes</td>\n",
       "      <td>25</td>\n",
       "      <td>265.1</td>\n",
       "      <td>110</td>\n",
       "      <td>45.07</td>\n",
       "      <td>...</td>\n",
       "      <td>99</td>\n",
       "      <td>16.78</td>\n",
       "      <td>244.7</td>\n",
       "      <td>91</td>\n",
       "      <td>11.01</td>\n",
       "      <td>10.0</td>\n",
       "      <td>3</td>\n",
       "      <td>2.70</td>\n",
       "      <td>1</td>\n",
       "      <td>False.</td>\n",
       "    </tr>\n",
       "    <tr>\n",
       "      <th>1</th>\n",
       "      <td>OH</td>\n",
       "      <td>107</td>\n",
       "      <td>415</td>\n",
       "      <td>371-7191</td>\n",
       "      <td>no</td>\n",
       "      <td>yes</td>\n",
       "      <td>26</td>\n",
       "      <td>161.6</td>\n",
       "      <td>123</td>\n",
       "      <td>27.47</td>\n",
       "      <td>...</td>\n",
       "      <td>103</td>\n",
       "      <td>16.62</td>\n",
       "      <td>254.4</td>\n",
       "      <td>103</td>\n",
       "      <td>11.45</td>\n",
       "      <td>13.7</td>\n",
       "      <td>3</td>\n",
       "      <td>3.70</td>\n",
       "      <td>1</td>\n",
       "      <td>False.</td>\n",
       "    </tr>\n",
       "    <tr>\n",
       "      <th>2</th>\n",
       "      <td>NJ</td>\n",
       "      <td>137</td>\n",
       "      <td>415</td>\n",
       "      <td>358-1921</td>\n",
       "      <td>no</td>\n",
       "      <td>no</td>\n",
       "      <td>0</td>\n",
       "      <td>243.4</td>\n",
       "      <td>114</td>\n",
       "      <td>41.38</td>\n",
       "      <td>...</td>\n",
       "      <td>110</td>\n",
       "      <td>10.30</td>\n",
       "      <td>162.6</td>\n",
       "      <td>104</td>\n",
       "      <td>7.32</td>\n",
       "      <td>12.2</td>\n",
       "      <td>5</td>\n",
       "      <td>3.29</td>\n",
       "      <td>0</td>\n",
       "      <td>False.</td>\n",
       "    </tr>\n",
       "    <tr>\n",
       "      <th>3</th>\n",
       "      <td>OH</td>\n",
       "      <td>84</td>\n",
       "      <td>408</td>\n",
       "      <td>375-9999</td>\n",
       "      <td>yes</td>\n",
       "      <td>no</td>\n",
       "      <td>0</td>\n",
       "      <td>299.4</td>\n",
       "      <td>71</td>\n",
       "      <td>50.90</td>\n",
       "      <td>...</td>\n",
       "      <td>88</td>\n",
       "      <td>5.26</td>\n",
       "      <td>196.9</td>\n",
       "      <td>89</td>\n",
       "      <td>8.86</td>\n",
       "      <td>6.6</td>\n",
       "      <td>7</td>\n",
       "      <td>1.78</td>\n",
       "      <td>2</td>\n",
       "      <td>False.</td>\n",
       "    </tr>\n",
       "    <tr>\n",
       "      <th>4</th>\n",
       "      <td>OK</td>\n",
       "      <td>75</td>\n",
       "      <td>415</td>\n",
       "      <td>330-6626</td>\n",
       "      <td>yes</td>\n",
       "      <td>no</td>\n",
       "      <td>0</td>\n",
       "      <td>166.7</td>\n",
       "      <td>113</td>\n",
       "      <td>28.34</td>\n",
       "      <td>...</td>\n",
       "      <td>122</td>\n",
       "      <td>12.61</td>\n",
       "      <td>186.9</td>\n",
       "      <td>121</td>\n",
       "      <td>8.41</td>\n",
       "      <td>10.1</td>\n",
       "      <td>3</td>\n",
       "      <td>2.73</td>\n",
       "      <td>3</td>\n",
       "      <td>False.</td>\n",
       "    </tr>\n",
       "  </tbody>\n",
       "</table>\n",
       "<p>5 rows × 21 columns</p>\n",
       "</div>"
      ],
      "text/plain": [
       "  State  Account Length  Area Code     Phone Int'l Plan VMail Plan  \\\n",
       "0    KS             128        415  382-4657         no        yes   \n",
       "1    OH             107        415  371-7191         no        yes   \n",
       "2    NJ             137        415  358-1921         no         no   \n",
       "3    OH              84        408  375-9999        yes         no   \n",
       "4    OK              75        415  330-6626        yes         no   \n",
       "\n",
       "   VMail Message  Day Mins  Day Calls  Day Charge  ...  Eve Calls  Eve Charge  \\\n",
       "0             25     265.1        110       45.07  ...         99       16.78   \n",
       "1             26     161.6        123       27.47  ...        103       16.62   \n",
       "2              0     243.4        114       41.38  ...        110       10.30   \n",
       "3              0     299.4         71       50.90  ...         88        5.26   \n",
       "4              0     166.7        113       28.34  ...        122       12.61   \n",
       "\n",
       "   Night Mins  Night Calls  Night Charge  Intl Mins  Intl Calls  Intl Charge  \\\n",
       "0       244.7           91         11.01       10.0           3         2.70   \n",
       "1       254.4          103         11.45       13.7           3         3.70   \n",
       "2       162.6          104          7.32       12.2           5         3.29   \n",
       "3       196.9           89          8.86        6.6           7         1.78   \n",
       "4       186.9          121          8.41       10.1           3         2.73   \n",
       "\n",
       "   CustServ Calls  Churn?  \n",
       "0               1  False.  \n",
       "1               1  False.  \n",
       "2               0  False.  \n",
       "3               2  False.  \n",
       "4               3  False.  \n",
       "\n",
       "[5 rows x 21 columns]"
      ]
     },
     "execution_count": 5,
     "metadata": {},
     "output_type": "execute_result"
    }
   ],
   "source": [
    "churn.head()"
   ]
  },
  {
   "cell_type": "code",
   "execution_count": 6,
   "metadata": {},
   "outputs": [],
   "source": [
    "churn.rename(columns = {'Churn?':'Churn'}, inplace = True)"
   ]
  },
  {
   "cell_type": "code",
   "execution_count": 7,
   "metadata": {},
   "outputs": [
    {
     "data": {
      "text/plain": [
       "Index(['State', 'Account Length', 'Area Code', 'Phone', 'Int'l Plan',\n",
       "       'VMail Plan', 'VMail Message', 'Day Mins', 'Day Calls', 'Day Charge',\n",
       "       'Eve Mins', 'Eve Calls', 'Eve Charge', 'Night Mins', 'Night Calls',\n",
       "       'Night Charge', 'Intl Mins', 'Intl Calls', 'Intl Charge',\n",
       "       'CustServ Calls', 'Churn'],\n",
       "      dtype='object')"
      ]
     },
     "execution_count": 7,
     "metadata": {},
     "output_type": "execute_result"
    }
   ],
   "source": [
    "churn.columns"
   ]
  },
  {
   "cell_type": "code",
   "execution_count": 8,
   "metadata": {},
   "outputs": [],
   "source": [
    "# EDA -> Find variables that some relation with churn variables\n",
    "#        Remove variables that have multi-collinearity\n",
    "#        missing values\n",
    "#        outlier (input variables)"
   ]
  },
  {
   "cell_type": "code",
   "execution_count": 9,
   "metadata": {
    "scrolled": false
   },
   "outputs": [
    {
     "name": "stdout",
     "output_type": "stream",
     "text": [
      "<class 'pandas.core.frame.DataFrame'>\n",
      "RangeIndex: 3333 entries, 0 to 3332\n",
      "Data columns (total 21 columns):\n",
      " #   Column          Non-Null Count  Dtype  \n",
      "---  ------          --------------  -----  \n",
      " 0   State           3333 non-null   object \n",
      " 1   Account Length  3333 non-null   int64  \n",
      " 2   Area Code       3333 non-null   int64  \n",
      " 3   Phone           3333 non-null   object \n",
      " 4   Int'l Plan      3333 non-null   object \n",
      " 5   VMail Plan      3333 non-null   object \n",
      " 6   VMail Message   3333 non-null   int64  \n",
      " 7   Day Mins        3333 non-null   float64\n",
      " 8   Day Calls       3333 non-null   int64  \n",
      " 9   Day Charge      3333 non-null   float64\n",
      " 10  Eve Mins        3333 non-null   float64\n",
      " 11  Eve Calls       3333 non-null   int64  \n",
      " 12  Eve Charge      3333 non-null   float64\n",
      " 13  Night Mins      3333 non-null   float64\n",
      " 14  Night Calls     3333 non-null   int64  \n",
      " 15  Night Charge    3333 non-null   float64\n",
      " 16  Intl Mins       3333 non-null   float64\n",
      " 17  Intl Calls      3333 non-null   int64  \n",
      " 18  Intl Charge     3333 non-null   float64\n",
      " 19  CustServ Calls  3333 non-null   int64  \n",
      " 20  Churn           3333 non-null   object \n",
      "dtypes: float64(8), int64(8), object(5)\n",
      "memory usage: 546.9+ KB\n"
     ]
    }
   ],
   "source": [
    "churn.info()"
   ]
  },
  {
   "cell_type": "code",
   "execution_count": 10,
   "metadata": {},
   "outputs": [],
   "source": [
    "# all the \"object\" datatype should be converted to int64/float64 "
   ]
  },
  {
   "cell_type": "code",
   "execution_count": 11,
   "metadata": {},
   "outputs": [
    {
     "data": {
      "text/plain": [
       "no     3010\n",
       "yes     323\n",
       "Name: Int'l Plan, dtype: int64"
      ]
     },
     "execution_count": 11,
     "metadata": {},
     "output_type": "execute_result"
    }
   ],
   "source": [
    "churn[\"Int'l Plan\"].value_counts()"
   ]
  },
  {
   "cell_type": "code",
   "execution_count": 12,
   "metadata": {},
   "outputs": [],
   "source": [
    "churn[\"Int'l Plan\"] = churn[\"Int'l Plan\"].map({'no': 0,'yes' :1 })"
   ]
  },
  {
   "cell_type": "code",
   "execution_count": 13,
   "metadata": {},
   "outputs": [
    {
     "data": {
      "text/plain": [
       "no     2411\n",
       "yes     922\n",
       "Name: VMail Plan, dtype: int64"
      ]
     },
     "execution_count": 13,
     "metadata": {},
     "output_type": "execute_result"
    }
   ],
   "source": [
    "churn[\"VMail Plan\"].value_counts()"
   ]
  },
  {
   "cell_type": "code",
   "execution_count": 14,
   "metadata": {},
   "outputs": [],
   "source": [
    "churn[\"VMail Plan\"] = churn[\"VMail Plan\"].map({'no': 0,'yes' :1 })"
   ]
  },
  {
   "cell_type": "code",
   "execution_count": 15,
   "metadata": {},
   "outputs": [
    {
     "data": {
      "text/plain": [
       "False.    2850\n",
       "True.      483\n",
       "Name: Churn, dtype: int64"
      ]
     },
     "execution_count": 15,
     "metadata": {},
     "output_type": "execute_result"
    }
   ],
   "source": [
    "churn[\"Churn\"].value_counts()"
   ]
  },
  {
   "cell_type": "code",
   "execution_count": 16,
   "metadata": {},
   "outputs": [],
   "source": [
    "churn[\"Churn\"] = churn[\"Churn\"].map({'False.': 0,'True.' :1 })"
   ]
  },
  {
   "cell_type": "code",
   "execution_count": 17,
   "metadata": {},
   "outputs": [
    {
     "name": "stdout",
     "output_type": "stream",
     "text": [
      "<class 'pandas.core.frame.DataFrame'>\n",
      "RangeIndex: 3333 entries, 0 to 3332\n",
      "Data columns (total 21 columns):\n",
      " #   Column          Non-Null Count  Dtype  \n",
      "---  ------          --------------  -----  \n",
      " 0   State           3333 non-null   object \n",
      " 1   Account Length  3333 non-null   int64  \n",
      " 2   Area Code       3333 non-null   int64  \n",
      " 3   Phone           3333 non-null   object \n",
      " 4   Int'l Plan      3333 non-null   int64  \n",
      " 5   VMail Plan      3333 non-null   int64  \n",
      " 6   VMail Message   3333 non-null   int64  \n",
      " 7   Day Mins        3333 non-null   float64\n",
      " 8   Day Calls       3333 non-null   int64  \n",
      " 9   Day Charge      3333 non-null   float64\n",
      " 10  Eve Mins        3333 non-null   float64\n",
      " 11  Eve Calls       3333 non-null   int64  \n",
      " 12  Eve Charge      3333 non-null   float64\n",
      " 13  Night Mins      3333 non-null   float64\n",
      " 14  Night Calls     3333 non-null   int64  \n",
      " 15  Night Charge    3333 non-null   float64\n",
      " 16  Intl Mins       3333 non-null   float64\n",
      " 17  Intl Calls      3333 non-null   int64  \n",
      " 18  Intl Charge     3333 non-null   float64\n",
      " 19  CustServ Calls  3333 non-null   int64  \n",
      " 20  Churn           3333 non-null   int64  \n",
      "dtypes: float64(8), int64(11), object(2)\n",
      "memory usage: 546.9+ KB\n"
     ]
    }
   ],
   "source": [
    "churn.info()"
   ]
  },
  {
   "cell_type": "code",
   "execution_count": 18,
   "metadata": {},
   "outputs": [],
   "source": [
    "churn = churn.drop([\"State\",\"Area Code\",\"Phone\"],axis=1)"
   ]
  },
  {
   "cell_type": "code",
   "execution_count": 19,
   "metadata": {},
   "outputs": [
    {
     "name": "stdout",
     "output_type": "stream",
     "text": [
      "<class 'pandas.core.frame.DataFrame'>\n",
      "RangeIndex: 3333 entries, 0 to 3332\n",
      "Data columns (total 18 columns):\n",
      " #   Column          Non-Null Count  Dtype  \n",
      "---  ------          --------------  -----  \n",
      " 0   Account Length  3333 non-null   int64  \n",
      " 1   Int'l Plan      3333 non-null   int64  \n",
      " 2   VMail Plan      3333 non-null   int64  \n",
      " 3   VMail Message   3333 non-null   int64  \n",
      " 4   Day Mins        3333 non-null   float64\n",
      " 5   Day Calls       3333 non-null   int64  \n",
      " 6   Day Charge      3333 non-null   float64\n",
      " 7   Eve Mins        3333 non-null   float64\n",
      " 8   Eve Calls       3333 non-null   int64  \n",
      " 9   Eve Charge      3333 non-null   float64\n",
      " 10  Night Mins      3333 non-null   float64\n",
      " 11  Night Calls     3333 non-null   int64  \n",
      " 12  Night Charge    3333 non-null   float64\n",
      " 13  Intl Mins       3333 non-null   float64\n",
      " 14  Intl Calls      3333 non-null   int64  \n",
      " 15  Intl Charge     3333 non-null   float64\n",
      " 16  CustServ Calls  3333 non-null   int64  \n",
      " 17  Churn           3333 non-null   int64  \n",
      "dtypes: float64(8), int64(10)\n",
      "memory usage: 468.8 KB\n"
     ]
    }
   ],
   "source": [
    "churn.info()"
   ]
  },
  {
   "cell_type": "code",
   "execution_count": 20,
   "metadata": {},
   "outputs": [
    {
     "data": {
      "text/plain": [
       "0    0.855086\n",
       "1    0.144914\n",
       "Name: Churn, dtype: float64"
      ]
     },
     "execution_count": 20,
     "metadata": {},
     "output_type": "execute_result"
    }
   ],
   "source": [
    "churn[\"Churn\"].value_counts(normalize=True)\n",
    "# inspecting the target variable"
   ]
  },
  {
   "cell_type": "code",
   "execution_count": 21,
   "metadata": {},
   "outputs": [],
   "source": [
    "# therefore imbalanced data, ideally we should not work with this data, we should balance the data to 70:30 atleast."
   ]
  },
  {
   "cell_type": "code",
   "execution_count": 22,
   "metadata": {},
   "outputs": [
    {
     "data": {
      "text/plain": [
       "<AxesSubplot: xlabel='Churn', ylabel='Account Length'>"
      ]
     },
     "execution_count": 22,
     "metadata": {},
     "output_type": "execute_result"
    },
    {
     "data": {
      "image/png": "[encoded data removed]",
      "text/plain": [
       "<Figure size 432x288 with 1 Axes>"
      ]
     },
     "metadata": {
      "needs_background": "light"
     },
     "output_type": "display_data"
    }
   ],
   "source": [
    "sns.boxplot(x = \"Churn\", y = \"Account Length\", data = churn)"
   ]
  },
  {
   "cell_type": "code",
   "execution_count": 23,
   "metadata": {},
   "outputs": [
    {
     "data": {
      "text/plain": [
       "<AxesSubplot: xlabel='Churn', ylabel='Day Mins'>"
      ]
     },
     "execution_count": 23,
     "metadata": {},
     "output_type": "execute_result"
    },
    {
     "data": {
      "image/png": "[encoded data removed]",
      "text/plain": [
       "<Figure size 432x288 with 1 Axes>"
      ]
     },
     "metadata": {
      "needs_background": "light"
     },
     "output_type": "display_data"
    }
   ],
   "source": [
    "sns.boxplot(x = \"Churn\", y = \"Day Mins\", data = churn)"
   ]
  },
  {
   "cell_type": "code",
   "execution_count": 24,
   "metadata": {},
   "outputs": [
    {
     "data": {
      "text/html": [
       "<div>\n",
       "<style scoped>\n",
       "    .dataframe tbody tr th:only-of-type {\n",
       "        vertical-align: middle;\n",
       "    }\n",
       "\n",
       "    .dataframe tbody tr th {\n",
       "        vertical-align: top;\n",
       "    }\n",
       "\n",
       "    .dataframe thead th {\n",
       "        text-align: right;\n",
       "    }\n",
       "</style>\n",
       "<table border=\"1\" class=\"dataframe\">\n",
       "  <thead>\n",
       "    <tr style=\"text-align: right;\">\n",
       "      <th></th>\n",
       "      <th>Account Length</th>\n",
       "      <th>Int'l Plan</th>\n",
       "      <th>VMail Plan</th>\n",
       "      <th>VMail Message</th>\n",
       "      <th>Day Mins</th>\n",
       "      <th>Day Calls</th>\n",
       "      <th>Day Charge</th>\n",
       "      <th>Eve Mins</th>\n",
       "      <th>Eve Calls</th>\n",
       "      <th>Eve Charge</th>\n",
       "      <th>Night Mins</th>\n",
       "      <th>Night Calls</th>\n",
       "      <th>Night Charge</th>\n",
       "      <th>Intl Mins</th>\n",
       "      <th>Intl Calls</th>\n",
       "      <th>Intl Charge</th>\n",
       "      <th>CustServ Calls</th>\n",
       "      <th>Churn</th>\n",
       "    </tr>\n",
       "  </thead>\n",
       "  <tbody>\n",
       "    <tr>\n",
       "      <th>Account Length</th>\n",
       "      <td>1.000000</td>\n",
       "      <td>0.024735</td>\n",
       "      <td>0.002918</td>\n",
       "      <td>-0.004628</td>\n",
       "      <td>0.006216</td>\n",
       "      <td>0.038470</td>\n",
       "      <td>0.006214</td>\n",
       "      <td>-0.006757</td>\n",
       "      <td>0.019260</td>\n",
       "      <td>-0.006745</td>\n",
       "      <td>-0.008955</td>\n",
       "      <td>-0.013176</td>\n",
       "      <td>-0.008960</td>\n",
       "      <td>0.009514</td>\n",
       "      <td>0.020661</td>\n",
       "      <td>0.009546</td>\n",
       "      <td>-0.003796</td>\n",
       "      <td>0.016541</td>\n",
       "    </tr>\n",
       "    <tr>\n",
       "      <th>Int'l Plan</th>\n",
       "      <td>0.024735</td>\n",
       "      <td>1.000000</td>\n",
       "      <td>0.006006</td>\n",
       "      <td>0.008745</td>\n",
       "      <td>0.049396</td>\n",
       "      <td>0.003755</td>\n",
       "      <td>0.049398</td>\n",
       "      <td>0.019100</td>\n",
       "      <td>0.006114</td>\n",
       "      <td>0.019106</td>\n",
       "      <td>-0.028905</td>\n",
       "      <td>0.012451</td>\n",
       "      <td>-0.028913</td>\n",
       "      <td>0.045871</td>\n",
       "      <td>0.017366</td>\n",
       "      <td>0.045780</td>\n",
       "      <td>-0.024522</td>\n",
       "      <td>0.259852</td>\n",
       "    </tr>\n",
       "    <tr>\n",
       "      <th>VMail Plan</th>\n",
       "      <td>0.002918</td>\n",
       "      <td>0.006006</td>\n",
       "      <td>1.000000</td>\n",
       "      <td>0.956927</td>\n",
       "      <td>-0.001684</td>\n",
       "      <td>-0.011086</td>\n",
       "      <td>-0.001686</td>\n",
       "      <td>0.021545</td>\n",
       "      <td>-0.006444</td>\n",
       "      <td>0.021559</td>\n",
       "      <td>0.006079</td>\n",
       "      <td>0.015553</td>\n",
       "      <td>0.006064</td>\n",
       "      <td>-0.001318</td>\n",
       "      <td>0.007618</td>\n",
       "      <td>-0.001276</td>\n",
       "      <td>-0.017824</td>\n",
       "      <td>-0.102148</td>\n",
       "    </tr>\n",
       "    <tr>\n",
       "      <th>VMail Message</th>\n",
       "      <td>-0.004628</td>\n",
       "      <td>0.008745</td>\n",
       "      <td>0.956927</td>\n",
       "      <td>1.000000</td>\n",
       "      <td>0.000778</td>\n",
       "      <td>-0.009548</td>\n",
       "      <td>0.000776</td>\n",
       "      <td>0.017562</td>\n",
       "      <td>-0.005864</td>\n",
       "      <td>0.017578</td>\n",
       "      <td>0.007681</td>\n",
       "      <td>0.007123</td>\n",
       "      <td>0.007663</td>\n",
       "      <td>0.002856</td>\n",
       "      <td>0.013957</td>\n",
       "      <td>0.002884</td>\n",
       "      <td>-0.013263</td>\n",
       "      <td>-0.089728</td>\n",
       "    </tr>\n",
       "    <tr>\n",
       "      <th>Day Mins</th>\n",
       "      <td>0.006216</td>\n",
       "      <td>0.049396</td>\n",
       "      <td>-0.001684</td>\n",
       "      <td>0.000778</td>\n",
       "      <td>1.000000</td>\n",
       "      <td>0.006750</td>\n",
       "      <td>1.000000</td>\n",
       "      <td>0.007043</td>\n",
       "      <td>0.015769</td>\n",
       "      <td>0.007029</td>\n",
       "      <td>0.004323</td>\n",
       "      <td>0.022972</td>\n",
       "      <td>0.004300</td>\n",
       "      <td>-0.010155</td>\n",
       "      <td>0.008033</td>\n",
       "      <td>-0.010092</td>\n",
       "      <td>-0.013423</td>\n",
       "      <td>0.205151</td>\n",
       "    </tr>\n",
       "    <tr>\n",
       "      <th>Day Calls</th>\n",
       "      <td>0.038470</td>\n",
       "      <td>0.003755</td>\n",
       "      <td>-0.011086</td>\n",
       "      <td>-0.009548</td>\n",
       "      <td>0.006750</td>\n",
       "      <td>1.000000</td>\n",
       "      <td>0.006753</td>\n",
       "      <td>-0.021451</td>\n",
       "      <td>0.006462</td>\n",
       "      <td>-0.021449</td>\n",
       "      <td>0.022938</td>\n",
       "      <td>-0.019557</td>\n",
       "      <td>0.022927</td>\n",
       "      <td>0.021565</td>\n",
       "      <td>0.004574</td>\n",
       "      <td>0.021666</td>\n",
       "      <td>-0.018942</td>\n",
       "      <td>0.018459</td>\n",
       "    </tr>\n",
       "    <tr>\n",
       "      <th>Day Charge</th>\n",
       "      <td>0.006214</td>\n",
       "      <td>0.049398</td>\n",
       "      <td>-0.001686</td>\n",
       "      <td>0.000776</td>\n",
       "      <td>1.000000</td>\n",
       "      <td>0.006753</td>\n",
       "      <td>1.000000</td>\n",
       "      <td>0.007050</td>\n",
       "      <td>0.015769</td>\n",
       "      <td>0.007036</td>\n",
       "      <td>0.004324</td>\n",
       "      <td>0.022972</td>\n",
       "      <td>0.004301</td>\n",
       "      <td>-0.010157</td>\n",
       "      <td>0.008032</td>\n",
       "      <td>-0.010094</td>\n",
       "      <td>-0.013427</td>\n",
       "      <td>0.205151</td>\n",
       "    </tr>\n",
       "    <tr>\n",
       "      <th>Eve Mins</th>\n",
       "      <td>-0.006757</td>\n",
       "      <td>0.019100</td>\n",
       "      <td>0.021545</td>\n",
       "      <td>0.017562</td>\n",
       "      <td>0.007043</td>\n",
       "      <td>-0.021451</td>\n",
       "      <td>0.007050</td>\n",
       "      <td>1.000000</td>\n",
       "      <td>-0.011430</td>\n",
       "      <td>1.000000</td>\n",
       "      <td>-0.012584</td>\n",
       "      <td>0.007586</td>\n",
       "      <td>-0.012593</td>\n",
       "      <td>-0.011035</td>\n",
       "      <td>0.002541</td>\n",
       "      <td>-0.011067</td>\n",
       "      <td>-0.012985</td>\n",
       "      <td>0.092796</td>\n",
       "    </tr>\n",
       "    <tr>\n",
       "      <th>Eve Calls</th>\n",
       "      <td>0.019260</td>\n",
       "      <td>0.006114</td>\n",
       "      <td>-0.006444</td>\n",
       "      <td>-0.005864</td>\n",
       "      <td>0.015769</td>\n",
       "      <td>0.006462</td>\n",
       "      <td>0.015769</td>\n",
       "      <td>-0.011430</td>\n",
       "      <td>1.000000</td>\n",
       "      <td>-0.011423</td>\n",
       "      <td>-0.002093</td>\n",
       "      <td>0.007710</td>\n",
       "      <td>-0.002056</td>\n",
       "      <td>0.008703</td>\n",
       "      <td>0.017434</td>\n",
       "      <td>0.008674</td>\n",
       "      <td>0.002423</td>\n",
       "      <td>0.009233</td>\n",
       "    </tr>\n",
       "    <tr>\n",
       "      <th>Eve Charge</th>\n",
       "      <td>-0.006745</td>\n",
       "      <td>0.019106</td>\n",
       "      <td>0.021559</td>\n",
       "      <td>0.017578</td>\n",
       "      <td>0.007029</td>\n",
       "      <td>-0.021449</td>\n",
       "      <td>0.007036</td>\n",
       "      <td>1.000000</td>\n",
       "      <td>-0.011423</td>\n",
       "      <td>1.000000</td>\n",
       "      <td>-0.012592</td>\n",
       "      <td>0.007596</td>\n",
       "      <td>-0.012601</td>\n",
       "      <td>-0.011043</td>\n",
       "      <td>0.002541</td>\n",
       "      <td>-0.011074</td>\n",
       "      <td>-0.012987</td>\n",
       "      <td>0.092786</td>\n",
       "    </tr>\n",
       "    <tr>\n",
       "      <th>Night Mins</th>\n",
       "      <td>-0.008955</td>\n",
       "      <td>-0.028905</td>\n",
       "      <td>0.006079</td>\n",
       "      <td>0.007681</td>\n",
       "      <td>0.004323</td>\n",
       "      <td>0.022938</td>\n",
       "      <td>0.004324</td>\n",
       "      <td>-0.012584</td>\n",
       "      <td>-0.002093</td>\n",
       "      <td>-0.012592</td>\n",
       "      <td>1.000000</td>\n",
       "      <td>0.011204</td>\n",
       "      <td>0.999999</td>\n",
       "      <td>-0.015207</td>\n",
       "      <td>-0.012353</td>\n",
       "      <td>-0.015180</td>\n",
       "      <td>-0.009288</td>\n",
       "      <td>0.035493</td>\n",
       "    </tr>\n",
       "    <tr>\n",
       "      <th>Night Calls</th>\n",
       "      <td>-0.013176</td>\n",
       "      <td>0.012451</td>\n",
       "      <td>0.015553</td>\n",
       "      <td>0.007123</td>\n",
       "      <td>0.022972</td>\n",
       "      <td>-0.019557</td>\n",
       "      <td>0.022972</td>\n",
       "      <td>0.007586</td>\n",
       "      <td>0.007710</td>\n",
       "      <td>0.007596</td>\n",
       "      <td>0.011204</td>\n",
       "      <td>1.000000</td>\n",
       "      <td>0.011188</td>\n",
       "      <td>-0.013605</td>\n",
       "      <td>0.000305</td>\n",
       "      <td>-0.013630</td>\n",
       "      <td>-0.012802</td>\n",
       "      <td>0.006141</td>\n",
       "    </tr>\n",
       "    <tr>\n",
       "      <th>Night Charge</th>\n",
       "      <td>-0.008960</td>\n",
       "      <td>-0.028913</td>\n",
       "      <td>0.006064</td>\n",
       "      <td>0.007663</td>\n",
       "      <td>0.004300</td>\n",
       "      <td>0.022927</td>\n",
       "      <td>0.004301</td>\n",
       "      <td>-0.012593</td>\n",
       "      <td>-0.002056</td>\n",
       "      <td>-0.012601</td>\n",
       "      <td>0.999999</td>\n",
       "      <td>0.011188</td>\n",
       "      <td>1.000000</td>\n",
       "      <td>-0.015214</td>\n",
       "      <td>-0.012329</td>\n",
       "      <td>-0.015186</td>\n",
       "      <td>-0.009277</td>\n",
       "      <td>0.035496</td>\n",
       "    </tr>\n",
       "    <tr>\n",
       "      <th>Intl Mins</th>\n",
       "      <td>0.009514</td>\n",
       "      <td>0.045871</td>\n",
       "      <td>-0.001318</td>\n",
       "      <td>0.002856</td>\n",
       "      <td>-0.010155</td>\n",
       "      <td>0.021565</td>\n",
       "      <td>-0.010157</td>\n",
       "      <td>-0.011035</td>\n",
       "      <td>0.008703</td>\n",
       "      <td>-0.011043</td>\n",
       "      <td>-0.015207</td>\n",
       "      <td>-0.013605</td>\n",
       "      <td>-0.015214</td>\n",
       "      <td>1.000000</td>\n",
       "      <td>0.032304</td>\n",
       "      <td>0.999993</td>\n",
       "      <td>-0.009640</td>\n",
       "      <td>0.068239</td>\n",
       "    </tr>\n",
       "    <tr>\n",
       "      <th>Intl Calls</th>\n",
       "      <td>0.020661</td>\n",
       "      <td>0.017366</td>\n",
       "      <td>0.007618</td>\n",
       "      <td>0.013957</td>\n",
       "      <td>0.008033</td>\n",
       "      <td>0.004574</td>\n",
       "      <td>0.008032</td>\n",
       "      <td>0.002541</td>\n",
       "      <td>0.017434</td>\n",
       "      <td>0.002541</td>\n",
       "      <td>-0.012353</td>\n",
       "      <td>0.000305</td>\n",
       "      <td>-0.012329</td>\n",
       "      <td>0.032304</td>\n",
       "      <td>1.000000</td>\n",
       "      <td>0.032372</td>\n",
       "      <td>-0.017561</td>\n",
       "      <td>-0.052844</td>\n",
       "    </tr>\n",
       "    <tr>\n",
       "      <th>Intl Charge</th>\n",
       "      <td>0.009546</td>\n",
       "      <td>0.045780</td>\n",
       "      <td>-0.001276</td>\n",
       "      <td>0.002884</td>\n",
       "      <td>-0.010092</td>\n",
       "      <td>0.021666</td>\n",
       "      <td>-0.010094</td>\n",
       "      <td>-0.011067</td>\n",
       "      <td>0.008674</td>\n",
       "      <td>-0.011074</td>\n",
       "      <td>-0.015180</td>\n",
       "      <td>-0.013630</td>\n",
       "      <td>-0.015186</td>\n",
       "      <td>0.999993</td>\n",
       "      <td>0.032372</td>\n",
       "      <td>1.000000</td>\n",
       "      <td>-0.009675</td>\n",
       "      <td>0.068259</td>\n",
       "    </tr>\n",
       "    <tr>\n",
       "      <th>CustServ Calls</th>\n",
       "      <td>-0.003796</td>\n",
       "      <td>-0.024522</td>\n",
       "      <td>-0.017824</td>\n",
       "      <td>-0.013263</td>\n",
       "      <td>-0.013423</td>\n",
       "      <td>-0.018942</td>\n",
       "      <td>-0.013427</td>\n",
       "      <td>-0.012985</td>\n",
       "      <td>0.002423</td>\n",
       "      <td>-0.012987</td>\n",
       "      <td>-0.009288</td>\n",
       "      <td>-0.012802</td>\n",
       "      <td>-0.009277</td>\n",
       "      <td>-0.009640</td>\n",
       "      <td>-0.017561</td>\n",
       "      <td>-0.009675</td>\n",
       "      <td>1.000000</td>\n",
       "      <td>0.208750</td>\n",
       "    </tr>\n",
       "    <tr>\n",
       "      <th>Churn</th>\n",
       "      <td>0.016541</td>\n",
       "      <td>0.259852</td>\n",
       "      <td>-0.102148</td>\n",
       "      <td>-0.089728</td>\n",
       "      <td>0.205151</td>\n",
       "      <td>0.018459</td>\n",
       "      <td>0.205151</td>\n",
       "      <td>0.092796</td>\n",
       "      <td>0.009233</td>\n",
       "      <td>0.092786</td>\n",
       "      <td>0.035493</td>\n",
       "      <td>0.006141</td>\n",
       "      <td>0.035496</td>\n",
       "      <td>0.068239</td>\n",
       "      <td>-0.052844</td>\n",
       "      <td>0.068259</td>\n",
       "      <td>0.208750</td>\n",
       "      <td>1.000000</td>\n",
       "    </tr>\n",
       "  </tbody>\n",
       "</table>\n",
       "</div>"
      ],
      "text/plain": [
       "                Account Length  Int'l Plan  VMail Plan  VMail Message  \\\n",
       "Account Length        1.000000    0.024735    0.002918      -0.004628   \n",
       "Int'l Plan            0.024735    1.000000    0.006006       0.008745   \n",
       "VMail Plan            0.002918    0.006006    1.000000       0.956927   \n",
       "VMail Message        -0.004628    0.008745    0.956927       1.000000   \n",
       "Day Mins              0.006216    0.049396   -0.001684       0.000778   \n",
       "Day Calls             0.038470    0.003755   -0.011086      -0.009548   \n",
       "Day Charge            0.006214    0.049398   -0.001686       0.000776   \n",
       "Eve Mins             -0.006757    0.019100    0.021545       0.017562   \n",
       "Eve Calls             0.019260    0.006114   -0.006444      -0.005864   \n",
       "Eve Charge           -0.006745    0.019106    0.021559       0.017578   \n",
       "Night Mins           -0.008955   -0.028905    0.006079       0.007681   \n",
       "Night Calls          -0.013176    0.012451    0.015553       0.007123   \n",
       "Night Charge         -0.008960   -0.028913    0.006064       0.007663   \n",
       "Intl Mins             0.009514    0.045871   -0.001318       0.002856   \n",
       "Intl Calls            0.020661    0.017366    0.007618       0.013957   \n",
       "Intl Charge           0.009546    0.045780   -0.001276       0.002884   \n",
       "CustServ Calls       -0.003796   -0.024522   -0.017824      -0.013263   \n",
       "Churn                 0.016541    0.259852   -0.102148      -0.089728   \n",
       "\n",
       "                Day Mins  Day Calls  Day Charge  Eve Mins  Eve Calls  \\\n",
       "Account Length  0.006216   0.038470    0.006214 -0.006757   0.019260   \n",
       "Int'l Plan      0.049396   0.003755    0.049398  0.019100   0.006114   \n",
       "VMail Plan     -0.001684  -0.011086   -0.001686  0.021545  -0.006444   \n",
       "VMail Message   0.000778  -0.009548    0.000776  0.017562  -0.005864   \n",
       "Day Mins        1.000000   0.006750    1.000000  0.007043   0.015769   \n",
       "Day Calls       0.006750   1.000000    0.006753 -0.021451   0.006462   \n",
       "Day Charge      1.000000   0.006753    1.000000  0.007050   0.015769   \n",
       "Eve Mins        0.007043  -0.021451    0.007050  1.000000  -0.011430   \n",
       "Eve Calls       0.015769   0.006462    0.015769 -0.011430   1.000000   \n",
       "Eve Charge      0.007029  -0.021449    0.007036  1.000000  -0.011423   \n",
       "Night Mins      0.004323   0.022938    0.004324 -0.012584  -0.002093   \n",
       "Night Calls     0.022972  -0.019557    0.022972  0.007586   0.007710   \n",
       "Night Charge    0.004300   0.022927    0.004301 -0.012593  -0.002056   \n",
       "Intl Mins      -0.010155   0.021565   -0.010157 -0.011035   0.008703   \n",
       "Intl Calls      0.008033   0.004574    0.008032  0.002541   0.017434   \n",
       "Intl Charge    -0.010092   0.021666   -0.010094 -0.011067   0.008674   \n",
       "CustServ Calls -0.013423  -0.018942   -0.013427 -0.012985   0.002423   \n",
       "Churn           0.205151   0.018459    0.205151  0.092796   0.009233   \n",
       "\n",
       "                Eve Charge  Night Mins  Night Calls  Night Charge  Intl Mins  \\\n",
       "Account Length   -0.006745   -0.008955    -0.013176     -0.008960   0.009514   \n",
       "Int'l Plan        0.019106   -0.028905     0.012451     -0.028913   0.045871   \n",
       "VMail Plan        0.021559    0.006079     0.015553      0.006064  -0.001318   \n",
       "VMail Message     0.017578    0.007681     0.007123      0.007663   0.002856   \n",
       "Day Mins          0.007029    0.004323     0.022972      0.004300  -0.010155   \n",
       "Day Calls        -0.021449    0.022938    -0.019557      0.022927   0.021565   \n",
       "Day Charge        0.007036    0.004324     0.022972      0.004301  -0.010157   \n",
       "Eve Mins          1.000000   -0.012584     0.007586     -0.012593  -0.011035   \n",
       "Eve Calls        -0.011423   -0.002093     0.007710     -0.002056   0.008703   \n",
       "Eve Charge        1.000000   -0.012592     0.007596     -0.012601  -0.011043   \n",
       "Night Mins       -0.012592    1.000000     0.011204      0.999999  -0.015207   \n",
       "Night Calls       0.007596    0.011204     1.000000      0.011188  -0.013605   \n",
       "Night Charge     -0.012601    0.999999     0.011188      1.000000  -0.015214   \n",
       "Intl Mins        -0.011043   -0.015207    -0.013605     -0.015214   1.000000   \n",
       "Intl Calls        0.002541   -0.012353     0.000305     -0.012329   0.032304   \n",
       "Intl Charge      -0.011074   -0.015180    -0.013630     -0.015186   0.999993   \n",
       "CustServ Calls   -0.012987   -0.009288    -0.012802     -0.009277  -0.009640   \n",
       "Churn             0.092786    0.035493     0.006141      0.035496   0.068239   \n",
       "\n",
       "                Intl Calls  Intl Charge  CustServ Calls     Churn  \n",
       "Account Length    0.020661     0.009546       -0.003796  0.016541  \n",
       "Int'l Plan        0.017366     0.045780       -0.024522  0.259852  \n",
       "VMail Plan        0.007618    -0.001276       -0.017824 -0.102148  \n",
       "VMail Message     0.013957     0.002884       -0.013263 -0.089728  \n",
       "Day Mins          0.008033    -0.010092       -0.013423  0.205151  \n",
       "Day Calls         0.004574     0.021666       -0.018942  0.018459  \n",
       "Day Charge        0.008032    -0.010094       -0.013427  0.205151  \n",
       "Eve Mins          0.002541    -0.011067       -0.012985  0.092796  \n",
       "Eve Calls         0.017434     0.008674        0.002423  0.009233  \n",
       "Eve Charge        0.002541    -0.011074       -0.012987  0.092786  \n",
       "Night Mins       -0.012353    -0.015180       -0.009288  0.035493  \n",
       "Night Calls       0.000305    -0.013630       -0.012802  0.006141  \n",
       "Night Charge     -0.012329    -0.015186       -0.009277  0.035496  \n",
       "Intl Mins         0.032304     0.999993       -0.009640  0.068239  \n",
       "Intl Calls        1.000000     0.032372       -0.017561 -0.052844  \n",
       "Intl Charge       0.032372     1.000000       -0.009675  0.068259  \n",
       "CustServ Calls   -0.017561    -0.009675        1.000000  0.208750  \n",
       "Churn            -0.052844     0.068259        0.208750  1.000000  "
      ]
     },
     "execution_count": 24,
     "metadata": {},
     "output_type": "execute_result"
    }
   ],
   "source": [
    "churn.corr()"
   ]
  },
  {
   "cell_type": "code",
   "execution_count": 25,
   "metadata": {},
   "outputs": [],
   "source": [
    "# interaction effect between variables : \n",
    "#     suppose one variable is not correlated to other \n",
    "#     and when two variables combined are strongly correlated with that variable \n",
    "#     we get a strong correlation\n",
    "#     so this kind of effect is called interaction effect among variables"
   ]
  },
  {
   "cell_type": "code",
   "execution_count": 26,
   "metadata": {},
   "outputs": [],
   "source": [
    "target = churn[\"Churn\"]\n",
    "X = churn.drop([\"Churn\"],axis=1)"
   ]
  },
  {
   "cell_type": "code",
   "execution_count": 27,
   "metadata": {},
   "outputs": [],
   "source": [
    "from sklearn.model_selection import train_test_split\n",
    "X_train,X_test, y_train,y_test = train_test_split(X,target,test_size=0.2,random_state=1)"
   ]
  },
  {
   "cell_type": "code",
   "execution_count": 28,
   "metadata": {},
   "outputs": [
    {
     "name": "stderr",
     "output_type": "stream",
     "text": [
      "c:\\Users\\parth\\AppData\\Local\\Programs\\Python\\Python39\\lib\\site-packages\\sklearn\\linear_model\\_logistic.py:458: ConvergenceWarning: lbfgs failed to converge (status=1):\n",
      "STOP: TOTAL NO. of ITERATIONS REACHED LIMIT.\n",
      "\n",
      "Increase the number of iterations (max_iter) or scale the data as shown in:\n",
      "    https://scikit-learn.org/stable/modules/preprocessing.html\n",
      "Please also refer to the documentation for alternative solver options:\n",
      "    https://scikit-learn.org/stable/modules/linear_model.html#logistic-regression\n",
      "  n_iter_i = _check_optimize_result(\n"
     ]
    },
    {
     "data": {
      "text/html": [
       "<style>#sk-container-id-1 {color: black;background-color: white;}#sk-container-id-1 pre{padding: 0;}#sk-container-id-1 div.sk-toggleable {background-color: white;}#sk-container-id-1 label.sk-toggleable__label {cursor: pointer;display: block;width: 100%;margin-bottom: 0;padding: 0.3em;box-sizing: border-box;text-align: center;}#sk-container-id-1 label.sk-toggleable__label-arrow:before {content: \"▸\";float: left;margin-right: 0.25em;color: #696969;}#sk-container-id-1 label.sk-toggleable__label-arrow:hover:before {color: black;}#sk-container-id-1 div.sk-estimator:hover label.sk-toggleable__label-arrow:before {color: black;}#sk-container-id-1 div.sk-toggleable__content {max-height: 0;max-width: 0;overflow: hidden;text-align: left;background-color: #f0f8ff;}#sk-container-id-1 div.sk-toggleable__content pre {margin: 0.2em;color: black;border-radius: 0.25em;background-color: #f0f8ff;}#sk-container-id-1 input.sk-toggleable__control:checked~div.sk-toggleable__content {max-height: 200px;max-width: 100%;overflow: auto;}#sk-container-id-1 input.sk-toggleable__control:checked~label.sk-toggleable__label-arrow:before {content: \"▾\";}#sk-container-id-1 div.sk-estimator input.sk-toggleable__control:checked~label.sk-toggleable__label {background-color: #d4ebff;}#sk-container-id-1 div.sk-label input.sk-toggleable__control:checked~label.sk-toggleable__label {background-color: #d4ebff;}#sk-container-id-1 input.sk-hidden--visually {border: 0;clip: rect(1px 1px 1px 1px);clip: rect(1px, 1px, 1px, 1px);height: 1px;margin: -1px;overflow: hidden;padding: 0;position: absolute;width: 1px;}#sk-container-id-1 div.sk-estimator {font-family: monospace;background-color: #f0f8ff;border: 1px dotted black;border-radius: 0.25em;box-sizing: border-box;margin-bottom: 0.5em;}#sk-container-id-1 div.sk-estimator:hover {background-color: #d4ebff;}#sk-container-id-1 div.sk-parallel-item::after {content: \"\";width: 100%;border-bottom: 1px solid gray;flex-grow: 1;}#sk-container-id-1 div.sk-label:hover label.sk-toggleable__label {background-color: #d4ebff;}#sk-container-id-1 div.sk-serial::before {content: \"\";position: absolute;border-left: 1px solid gray;box-sizing: border-box;top: 0;bottom: 0;left: 50%;z-index: 0;}#sk-container-id-1 div.sk-serial {display: flex;flex-direction: column;align-items: center;background-color: white;padding-right: 0.2em;padding-left: 0.2em;position: relative;}#sk-container-id-1 div.sk-item {position: relative;z-index: 1;}#sk-container-id-1 div.sk-parallel {display: flex;align-items: stretch;justify-content: center;background-color: white;position: relative;}#sk-container-id-1 div.sk-item::before, #sk-container-id-1 div.sk-parallel-item::before {content: \"\";position: absolute;border-left: 1px solid gray;box-sizing: border-box;top: 0;bottom: 0;left: 50%;z-index: -1;}#sk-container-id-1 div.sk-parallel-item {display: flex;flex-direction: column;z-index: 1;position: relative;background-color: white;}#sk-container-id-1 div.sk-parallel-item:first-child::after {align-self: flex-end;width: 50%;}#sk-container-id-1 div.sk-parallel-item:last-child::after {align-self: flex-start;width: 50%;}#sk-container-id-1 div.sk-parallel-item:only-child::after {width: 0;}#sk-container-id-1 div.sk-dashed-wrapped {border: 1px dashed gray;margin: 0 0.4em 0.5em 0.4em;box-sizing: border-box;padding-bottom: 0.4em;background-color: white;}#sk-container-id-1 div.sk-label label {font-family: monospace;font-weight: bold;display: inline-block;line-height: 1.2em;}#sk-container-id-1 div.sk-label-container {text-align: center;}#sk-container-id-1 div.sk-container {/* jupyter's `normalize.less` sets `[hidden] { display: none; }` but bootstrap.min.css set `[hidden] { display: none !important; }` so we also need the `!important` here to be able to override the default hidden behavior on the sphinx rendered scikit-learn.org. See: https://github.com/scikit-learn/scikit-learn/issues/21755 */display: inline-block !important;position: relative;}#sk-container-id-1 div.sk-text-repr-fallback {display: none;}</style><div id=\"sk-container-id-1\" class=\"sk-top-container\"><div class=\"sk-text-repr-fallback\"><pre>LogisticRegression()</pre><b>In a Jupyter environment, please rerun this cell to show the HTML representation or trust the notebook. <br />On GitHub, the HTML representation is unable to render, please try loading this page with nbviewer.org.</b></div><div class=\"sk-container\" hidden><div class=\"sk-item\"><div class=\"sk-estimator sk-toggleable\"><input class=\"sk-toggleable__control sk-hidden--visually\" id=\"sk-estimator-id-1\" type=\"checkbox\" checked><label for=\"sk-estimator-id-1\" class=\"sk-toggleable__label sk-toggleable__label-arrow\">LogisticRegression</label><div class=\"sk-toggleable__content\"><pre>LogisticRegression()</pre></div></div></div></div></div>"
      ],
      "text/plain": [
       "LogisticRegression()"
      ]
     },
     "execution_count": 28,
     "metadata": {},
     "output_type": "execute_result"
    }
   ],
   "source": [
    "from sklearn.linear_model import LogisticRegression\n",
    "\n",
    "logit = LogisticRegression()\n",
    "logit.fit(X_train,y_train)"
   ]
  },
  {
   "cell_type": "code",
   "execution_count": 30,
   "metadata": {},
   "outputs": [],
   "source": [
    "# so this warning is because of some iterations reached limit and it failed \n",
    "# currently ignoring this warning "
   ]
  },
  {
   "cell_type": "code",
   "execution_count": 31,
   "metadata": {},
   "outputs": [
    {
     "data": {
      "text/plain": [
       "array([-0.04304329])"
      ]
     },
     "execution_count": 31,
     "metadata": {},
     "output_type": "execute_result"
    }
   ],
   "source": [
    "logit.intercept_"
   ]
  },
  {
   "cell_type": "code",
   "execution_count": 32,
   "metadata": {},
   "outputs": [
    {
     "data": {
      "text/plain": [
       "array([[-2.02955388e-03,  2.05633893e-01, -1.75457662e-02,\n",
       "        -2.47877173e-02,  8.64773907e-03, -1.03398485e-02,\n",
       "         1.48371235e-03,  1.44763846e-03, -1.05663068e-02,\n",
       "         1.67002076e-04, -9.72042650e-04, -1.23612721e-02,\n",
       "        -3.78241693e-05, -4.31979744e-03, -1.35096940e-01,\n",
       "        -1.23459105e-03,  4.37618200e-01]])"
      ]
     },
     "execution_count": 32,
     "metadata": {},
     "output_type": "execute_result"
    }
   ],
   "source": [
    "logit.coef_"
   ]
  },
  {
   "cell_type": "code",
   "execution_count": 33,
   "metadata": {},
   "outputs": [],
   "source": [
    "import statsmodels.api as sm"
   ]
  },
  {
   "cell_type": "code",
   "execution_count": 34,
   "metadata": {},
   "outputs": [
    {
     "name": "stdout",
     "output_type": "stream",
     "text": [
      "Optimization terminated successfully.\n",
      "         Current function value: 0.318565\n",
      "         Iterations 7\n"
     ]
    }
   ],
   "source": [
    "# Statsmodel's default is w/o intercept, to add intercept we need to add constant\n",
    "X_train_sm = sm.add_constant(X_train)\n",
    "sm_model = sm.Logit(y_train,X_train_sm).fit()"
   ]
  },
  {
   "cell_type": "code",
   "execution_count": 35,
   "metadata": {},
   "outputs": [
    {
     "data": {
      "text/html": [
       "<table class=\"simpletable\">\n",
       "<caption>Logit Regression Results</caption>\n",
       "<tr>\n",
       "  <th>Dep. Variable:</th>         <td>Churn</td>      <th>  No. Observations:  </th>  <td>  2666</td>  \n",
       "</tr>\n",
       "<tr>\n",
       "  <th>Model:</th>                 <td>Logit</td>      <th>  Df Residuals:      </th>  <td>  2648</td>  \n",
       "</tr>\n",
       "<tr>\n",
       "  <th>Method:</th>                 <td>MLE</td>       <th>  Df Model:          </th>  <td>    17</td>  \n",
       "</tr>\n",
       "<tr>\n",
       "  <th>Date:</th>            <td>Fri, 04 Aug 2023</td> <th>  Pseudo R-squ.:     </th>  <td>0.2285</td>  \n",
       "</tr>\n",
       "<tr>\n",
       "  <th>Time:</th>                <td>06:33:23</td>     <th>  Log-Likelihood:    </th> <td> -849.30</td> \n",
       "</tr>\n",
       "<tr>\n",
       "  <th>converged:</th>             <td>True</td>       <th>  LL-Null:           </th> <td> -1100.8</td> \n",
       "</tr>\n",
       "<tr>\n",
       "  <th>Covariance Type:</th>     <td>nonrobust</td>    <th>  LLR p-value:       </th> <td>4.538e-96</td>\n",
       "</tr>\n",
       "</table>\n",
       "<table class=\"simpletable\">\n",
       "<tr>\n",
       "         <td></td>           <th>coef</th>     <th>std err</th>      <th>z</th>      <th>P>|z|</th>  <th>[0.025</th>    <th>0.975]</th>  \n",
       "</tr>\n",
       "<tr>\n",
       "  <th>const</th>          <td>   -8.6412</td> <td>    0.820</td> <td>  -10.534</td> <td> 0.000</td> <td>  -10.249</td> <td>   -7.033</td>\n",
       "</tr>\n",
       "<tr>\n",
       "  <th>Account Length</th> <td>    0.0008</td> <td>    0.002</td> <td>    0.492</td> <td> 0.623</td> <td>   -0.002</td> <td>    0.004</td>\n",
       "</tr>\n",
       "<tr>\n",
       "  <th>Int'l Plan</th>     <td>    2.0872</td> <td>    0.163</td> <td>   12.839</td> <td> 0.000</td> <td>    1.769</td> <td>    2.406</td>\n",
       "</tr>\n",
       "<tr>\n",
       "  <th>VMail Plan</th>     <td>   -1.9362</td> <td>    0.655</td> <td>   -2.955</td> <td> 0.003</td> <td>   -3.221</td> <td>   -0.652</td>\n",
       "</tr>\n",
       "<tr>\n",
       "  <th>VMail Message</th>  <td>    0.0326</td> <td>    0.020</td> <td>    1.597</td> <td> 0.110</td> <td>   -0.007</td> <td>    0.073</td>\n",
       "</tr>\n",
       "<tr>\n",
       "  <th>Day Mins</th>       <td>   -1.2864</td> <td>    3.684</td> <td>   -0.349</td> <td> 0.727</td> <td>   -8.507</td> <td>    5.935</td>\n",
       "</tr>\n",
       "<tr>\n",
       "  <th>Day Calls</th>      <td>    0.0025</td> <td>    0.003</td> <td>    0.798</td> <td> 0.425</td> <td>   -0.004</td> <td>    0.009</td>\n",
       "</tr>\n",
       "<tr>\n",
       "  <th>Day Charge</th>     <td>    7.6412</td> <td>   21.672</td> <td>    0.353</td> <td> 0.724</td> <td>  -34.835</td> <td>   50.118</td>\n",
       "</tr>\n",
       "<tr>\n",
       "  <th>Eve Mins</th>       <td>   -0.4609</td> <td>    1.838</td> <td>   -0.251</td> <td> 0.802</td> <td>   -4.062</td> <td>    3.141</td>\n",
       "</tr>\n",
       "<tr>\n",
       "  <th>Eve Calls</th>      <td>    0.0031</td> <td>    0.003</td> <td>    0.996</td> <td> 0.319</td> <td>   -0.003</td> <td>    0.009</td>\n",
       "</tr>\n",
       "<tr>\n",
       "  <th>Eve Charge</th>     <td>    5.5023</td> <td>   21.619</td> <td>    0.255</td> <td> 0.799</td> <td>  -36.870</td> <td>   47.874</td>\n",
       "</tr>\n",
       "<tr>\n",
       "  <th>Night Mins</th>     <td>    0.2730</td> <td>    0.989</td> <td>    0.276</td> <td> 0.782</td> <td>   -1.665</td> <td>    2.211</td>\n",
       "</tr>\n",
       "<tr>\n",
       "  <th>Night Calls</th>    <td> 5.259e-05</td> <td>    0.003</td> <td>    0.016</td> <td> 0.987</td> <td>   -0.006</td> <td>    0.006</td>\n",
       "</tr>\n",
       "<tr>\n",
       "  <th>Night Charge</th>   <td>   -5.9742</td> <td>   21.972</td> <td>   -0.272</td> <td> 0.786</td> <td>  -49.039</td> <td>   37.090</td>\n",
       "</tr>\n",
       "<tr>\n",
       "  <th>Intl Mins</th>      <td>   -0.0030</td> <td>    5.999</td> <td>   -0.000</td> <td> 1.000</td> <td>  -11.761</td> <td>   11.755</td>\n",
       "</tr>\n",
       "<tr>\n",
       "  <th>Intl Calls</th>     <td>   -0.1196</td> <td>    0.029</td> <td>   -4.090</td> <td> 0.000</td> <td>   -0.177</td> <td>   -0.062</td>\n",
       "</tr>\n",
       "<tr>\n",
       "  <th>Intl Charge</th>    <td>    0.3453</td> <td>   22.218</td> <td>    0.016</td> <td> 0.988</td> <td>  -43.202</td> <td>   43.893</td>\n",
       "</tr>\n",
       "<tr>\n",
       "  <th>CustServ Calls</th> <td>    0.5414</td> <td>    0.045</td> <td>   12.116</td> <td> 0.000</td> <td>    0.454</td> <td>    0.629</td>\n",
       "</tr>\n",
       "</table>"
      ],
      "text/plain": [
       "<class 'statsmodels.iolib.summary.Summary'>\n",
       "\"\"\"\n",
       "                           Logit Regression Results                           \n",
       "==============================================================================\n",
       "Dep. Variable:                  Churn   No. Observations:                 2666\n",
       "Model:                          Logit   Df Residuals:                     2648\n",
       "Method:                           MLE   Df Model:                           17\n",
       "Date:                Fri, 04 Aug 2023   Pseudo R-squ.:                  0.2285\n",
       "Time:                        06:33:23   Log-Likelihood:                -849.30\n",
       "converged:                       True   LL-Null:                       -1100.8\n",
       "Covariance Type:            nonrobust   LLR p-value:                 4.538e-96\n",
       "==================================================================================\n",
       "                     coef    std err          z      P>|z|      [0.025      0.975]\n",
       "----------------------------------------------------------------------------------\n",
       "const             -8.6412      0.820    -10.534      0.000     -10.249      -7.033\n",
       "Account Length     0.0008      0.002      0.492      0.623      -0.002       0.004\n",
       "Int'l Plan         2.0872      0.163     12.839      0.000       1.769       2.406\n",
       "VMail Plan        -1.9362      0.655     -2.955      0.003      -3.221      -0.652\n",
       "VMail Message      0.0326      0.020      1.597      0.110      -0.007       0.073\n",
       "Day Mins          -1.2864      3.684     -0.349      0.727      -8.507       5.935\n",
       "Day Calls          0.0025      0.003      0.798      0.425      -0.004       0.009\n",
       "Day Charge         7.6412     21.672      0.353      0.724     -34.835      50.118\n",
       "Eve Mins          -0.4609      1.838     -0.251      0.802      -4.062       3.141\n",
       "Eve Calls          0.0031      0.003      0.996      0.319      -0.003       0.009\n",
       "Eve Charge         5.5023     21.619      0.255      0.799     -36.870      47.874\n",
       "Night Mins         0.2730      0.989      0.276      0.782      -1.665       2.211\n",
       "Night Calls     5.259e-05      0.003      0.016      0.987      -0.006       0.006\n",
       "Night Charge      -5.9742     21.972     -0.272      0.786     -49.039      37.090\n",
       "Intl Mins         -0.0030      5.999     -0.000      1.000     -11.761      11.755\n",
       "Intl Calls        -0.1196      0.029     -4.090      0.000      -0.177      -0.062\n",
       "Intl Charge        0.3453     22.218      0.016      0.988     -43.202      43.893\n",
       "CustServ Calls     0.5414      0.045     12.116      0.000       0.454       0.629\n",
       "==================================================================================\n",
       "\"\"\""
      ]
     },
     "execution_count": 35,
     "metadata": {},
     "output_type": "execute_result"
    }
   ],
   "source": [
    "sm_model.summary()"
   ]
  },
  {
   "cell_type": "code",
   "execution_count": 36,
   "metadata": {},
   "outputs": [],
   "source": [
    "# there is no concept of r^2 in logistic regression, \n",
    "# but we do have psuedo r^2 similar to r^2 "
   ]
  },
  {
   "cell_type": "code",
   "execution_count": 37,
   "metadata": {},
   "outputs": [],
   "source": [
    "# psuedo r^2 = (1 - (LogLikelihood(model)/LogLikelihood(null model)))"
   ]
  },
  {
   "cell_type": "code",
   "execution_count": 38,
   "metadata": {},
   "outputs": [],
   "source": [
    "# from summary we can say that there are so many features whose \"P>|z|\" (p-value) > 0.05"
   ]
  },
  {
   "cell_type": "code",
   "execution_count": 39,
   "metadata": {},
   "outputs": [
    {
     "data": {
      "text/html": [
       "<div>\n",
       "<style scoped>\n",
       "    .dataframe tbody tr th:only-of-type {\n",
       "        vertical-align: middle;\n",
       "    }\n",
       "\n",
       "    .dataframe tbody tr th {\n",
       "        vertical-align: top;\n",
       "    }\n",
       "\n",
       "    .dataframe thead th {\n",
       "        text-align: right;\n",
       "    }\n",
       "</style>\n",
       "<table border=\"1\" class=\"dataframe\">\n",
       "  <thead>\n",
       "    <tr style=\"text-align: right;\">\n",
       "      <th></th>\n",
       "      <th>coef</th>\n",
       "      <th>std err</th>\n",
       "      <th>z</th>\n",
       "      <th>P&gt;|z|</th>\n",
       "      <th>[0.025</th>\n",
       "      <th>0.975]</th>\n",
       "    </tr>\n",
       "  </thead>\n",
       "  <tbody>\n",
       "    <tr>\n",
       "      <th>const</th>\n",
       "      <td>-8.641200</td>\n",
       "      <td>0.820</td>\n",
       "      <td>-10.534</td>\n",
       "      <td>0.000</td>\n",
       "      <td>-10.249</td>\n",
       "      <td>-7.033</td>\n",
       "    </tr>\n",
       "    <tr>\n",
       "      <th>Account Length</th>\n",
       "      <td>0.000800</td>\n",
       "      <td>0.002</td>\n",
       "      <td>0.492</td>\n",
       "      <td>0.623</td>\n",
       "      <td>-0.002</td>\n",
       "      <td>0.004</td>\n",
       "    </tr>\n",
       "    <tr>\n",
       "      <th>Int'l Plan</th>\n",
       "      <td>2.087200</td>\n",
       "      <td>0.163</td>\n",
       "      <td>12.839</td>\n",
       "      <td>0.000</td>\n",
       "      <td>1.769</td>\n",
       "      <td>2.406</td>\n",
       "    </tr>\n",
       "    <tr>\n",
       "      <th>VMail Plan</th>\n",
       "      <td>-1.936200</td>\n",
       "      <td>0.655</td>\n",
       "      <td>-2.955</td>\n",
       "      <td>0.003</td>\n",
       "      <td>-3.221</td>\n",
       "      <td>-0.652</td>\n",
       "    </tr>\n",
       "    <tr>\n",
       "      <th>VMail Message</th>\n",
       "      <td>0.032600</td>\n",
       "      <td>0.020</td>\n",
       "      <td>1.597</td>\n",
       "      <td>0.110</td>\n",
       "      <td>-0.007</td>\n",
       "      <td>0.073</td>\n",
       "    </tr>\n",
       "    <tr>\n",
       "      <th>Day Mins</th>\n",
       "      <td>-1.286400</td>\n",
       "      <td>3.684</td>\n",
       "      <td>-0.349</td>\n",
       "      <td>0.727</td>\n",
       "      <td>-8.507</td>\n",
       "      <td>5.935</td>\n",
       "    </tr>\n",
       "    <tr>\n",
       "      <th>Day Calls</th>\n",
       "      <td>0.002500</td>\n",
       "      <td>0.003</td>\n",
       "      <td>0.798</td>\n",
       "      <td>0.425</td>\n",
       "      <td>-0.004</td>\n",
       "      <td>0.009</td>\n",
       "    </tr>\n",
       "    <tr>\n",
       "      <th>Day Charge</th>\n",
       "      <td>7.641200</td>\n",
       "      <td>21.672</td>\n",
       "      <td>0.353</td>\n",
       "      <td>0.724</td>\n",
       "      <td>-34.835</td>\n",
       "      <td>50.118</td>\n",
       "    </tr>\n",
       "    <tr>\n",
       "      <th>Eve Mins</th>\n",
       "      <td>-0.460900</td>\n",
       "      <td>1.838</td>\n",
       "      <td>-0.251</td>\n",
       "      <td>0.802</td>\n",
       "      <td>-4.062</td>\n",
       "      <td>3.141</td>\n",
       "    </tr>\n",
       "    <tr>\n",
       "      <th>Eve Calls</th>\n",
       "      <td>0.003100</td>\n",
       "      <td>0.003</td>\n",
       "      <td>0.996</td>\n",
       "      <td>0.319</td>\n",
       "      <td>-0.003</td>\n",
       "      <td>0.009</td>\n",
       "    </tr>\n",
       "    <tr>\n",
       "      <th>Eve Charge</th>\n",
       "      <td>5.502300</td>\n",
       "      <td>21.619</td>\n",
       "      <td>0.255</td>\n",
       "      <td>0.799</td>\n",
       "      <td>-36.870</td>\n",
       "      <td>47.874</td>\n",
       "    </tr>\n",
       "    <tr>\n",
       "      <th>Night Mins</th>\n",
       "      <td>0.273000</td>\n",
       "      <td>0.989</td>\n",
       "      <td>0.276</td>\n",
       "      <td>0.782</td>\n",
       "      <td>-1.665</td>\n",
       "      <td>2.211</td>\n",
       "    </tr>\n",
       "    <tr>\n",
       "      <th>Night Calls</th>\n",
       "      <td>0.000053</td>\n",
       "      <td>0.003</td>\n",
       "      <td>0.016</td>\n",
       "      <td>0.987</td>\n",
       "      <td>-0.006</td>\n",
       "      <td>0.006</td>\n",
       "    </tr>\n",
       "    <tr>\n",
       "      <th>Night Charge</th>\n",
       "      <td>-5.974200</td>\n",
       "      <td>21.972</td>\n",
       "      <td>-0.272</td>\n",
       "      <td>0.786</td>\n",
       "      <td>-49.039</td>\n",
       "      <td>37.090</td>\n",
       "    </tr>\n",
       "    <tr>\n",
       "      <th>Intl Mins</th>\n",
       "      <td>-0.003000</td>\n",
       "      <td>5.999</td>\n",
       "      <td>-0.000</td>\n",
       "      <td>1.000</td>\n",
       "      <td>-11.761</td>\n",
       "      <td>11.755</td>\n",
       "    </tr>\n",
       "    <tr>\n",
       "      <th>Intl Calls</th>\n",
       "      <td>-0.119600</td>\n",
       "      <td>0.029</td>\n",
       "      <td>-4.090</td>\n",
       "      <td>0.000</td>\n",
       "      <td>-0.177</td>\n",
       "      <td>-0.062</td>\n",
       "    </tr>\n",
       "    <tr>\n",
       "      <th>Intl Charge</th>\n",
       "      <td>0.345300</td>\n",
       "      <td>22.218</td>\n",
       "      <td>0.016</td>\n",
       "      <td>0.988</td>\n",
       "      <td>-43.202</td>\n",
       "      <td>43.893</td>\n",
       "    </tr>\n",
       "    <tr>\n",
       "      <th>CustServ Calls</th>\n",
       "      <td>0.541400</td>\n",
       "      <td>0.045</td>\n",
       "      <td>12.116</td>\n",
       "      <td>0.000</td>\n",
       "      <td>0.454</td>\n",
       "      <td>0.629</td>\n",
       "    </tr>\n",
       "  </tbody>\n",
       "</table>\n",
       "</div>"
      ],
      "text/plain": [
       "                    coef  std err       z  P>|z|  [0.025  0.975]\n",
       "const          -8.641200    0.820 -10.534  0.000 -10.249  -7.033\n",
       "Account Length  0.000800    0.002   0.492  0.623  -0.002   0.004\n",
       "Int'l Plan      2.087200    0.163  12.839  0.000   1.769   2.406\n",
       "VMail Plan     -1.936200    0.655  -2.955  0.003  -3.221  -0.652\n",
       "VMail Message   0.032600    0.020   1.597  0.110  -0.007   0.073\n",
       "Day Mins       -1.286400    3.684  -0.349  0.727  -8.507   5.935\n",
       "Day Calls       0.002500    0.003   0.798  0.425  -0.004   0.009\n",
       "Day Charge      7.641200   21.672   0.353  0.724 -34.835  50.118\n",
       "Eve Mins       -0.460900    1.838  -0.251  0.802  -4.062   3.141\n",
       "Eve Calls       0.003100    0.003   0.996  0.319  -0.003   0.009\n",
       "Eve Charge      5.502300   21.619   0.255  0.799 -36.870  47.874\n",
       "Night Mins      0.273000    0.989   0.276  0.782  -1.665   2.211\n",
       "Night Calls     0.000053    0.003   0.016  0.987  -0.006   0.006\n",
       "Night Charge   -5.974200   21.972  -0.272  0.786 -49.039  37.090\n",
       "Intl Mins      -0.003000    5.999  -0.000  1.000 -11.761  11.755\n",
       "Intl Calls     -0.119600    0.029  -4.090  0.000  -0.177  -0.062\n",
       "Intl Charge     0.345300   22.218   0.016  0.988 -43.202  43.893\n",
       "CustServ Calls  0.541400    0.045  12.116  0.000   0.454   0.629"
      ]
     },
     "execution_count": 39,
     "metadata": {},
     "output_type": "execute_result"
    }
   ],
   "source": [
    "coef_sm = pd.read_html(sm_model.summary().tables[1].as_html(),header=0,index_col=0)[0]\n",
    "coef_sm"
   ]
  },
  {
   "cell_type": "code",
   "execution_count": 37,
   "metadata": {},
   "outputs": [],
   "source": [
    "coef_sm[\"odds_ratio\"] = np.exp(coef_sm[\"coef\"])"
   ]
  },
  {
   "cell_type": "code",
   "execution_count": 38,
   "metadata": {},
   "outputs": [
    {
     "data": {
      "text/html": [
       "<div>\n",
       "<style scoped>\n",
       "    .dataframe tbody tr th:only-of-type {\n",
       "        vertical-align: middle;\n",
       "    }\n",
       "\n",
       "    .dataframe tbody tr th {\n",
       "        vertical-align: top;\n",
       "    }\n",
       "\n",
       "    .dataframe thead th {\n",
       "        text-align: right;\n",
       "    }\n",
       "</style>\n",
       "<table border=\"1\" class=\"dataframe\">\n",
       "  <thead>\n",
       "    <tr style=\"text-align: right;\">\n",
       "      <th></th>\n",
       "      <th>coef</th>\n",
       "      <th>std err</th>\n",
       "      <th>z</th>\n",
       "      <th>P&gt;|z|</th>\n",
       "      <th>[0.025</th>\n",
       "      <th>0.975]</th>\n",
       "      <th>odds_ratio</th>\n",
       "    </tr>\n",
       "  </thead>\n",
       "  <tbody>\n",
       "    <tr>\n",
       "      <th>const</th>\n",
       "      <td>-8.641200</td>\n",
       "      <td>0.820</td>\n",
       "      <td>-10.534</td>\n",
       "      <td>0.000</td>\n",
       "      <td>-10.249</td>\n",
       "      <td>-7.033</td>\n",
       "      <td>0.000177</td>\n",
       "    </tr>\n",
       "    <tr>\n",
       "      <th>Account Length</th>\n",
       "      <td>0.000800</td>\n",
       "      <td>0.002</td>\n",
       "      <td>0.492</td>\n",
       "      <td>0.623</td>\n",
       "      <td>-0.002</td>\n",
       "      <td>0.004</td>\n",
       "      <td>1.000800</td>\n",
       "    </tr>\n",
       "    <tr>\n",
       "      <th>Int'l Plan</th>\n",
       "      <td>2.087200</td>\n",
       "      <td>0.163</td>\n",
       "      <td>12.839</td>\n",
       "      <td>0.000</td>\n",
       "      <td>1.769</td>\n",
       "      <td>2.406</td>\n",
       "      <td>8.062309</td>\n",
       "    </tr>\n",
       "    <tr>\n",
       "      <th>VMail Plan</th>\n",
       "      <td>-1.936200</td>\n",
       "      <td>0.655</td>\n",
       "      <td>-2.955</td>\n",
       "      <td>0.003</td>\n",
       "      <td>-3.221</td>\n",
       "      <td>-0.652</td>\n",
       "      <td>0.144251</td>\n",
       "    </tr>\n",
       "    <tr>\n",
       "      <th>VMail Message</th>\n",
       "      <td>0.032600</td>\n",
       "      <td>0.020</td>\n",
       "      <td>1.597</td>\n",
       "      <td>0.110</td>\n",
       "      <td>-0.007</td>\n",
       "      <td>0.073</td>\n",
       "      <td>1.033137</td>\n",
       "    </tr>\n",
       "    <tr>\n",
       "      <th>Day Mins</th>\n",
       "      <td>-1.286400</td>\n",
       "      <td>3.684</td>\n",
       "      <td>-0.349</td>\n",
       "      <td>0.727</td>\n",
       "      <td>-8.507</td>\n",
       "      <td>5.935</td>\n",
       "      <td>0.276264</td>\n",
       "    </tr>\n",
       "    <tr>\n",
       "      <th>Day Calls</th>\n",
       "      <td>0.002500</td>\n",
       "      <td>0.003</td>\n",
       "      <td>0.798</td>\n",
       "      <td>0.425</td>\n",
       "      <td>-0.004</td>\n",
       "      <td>0.009</td>\n",
       "      <td>1.002503</td>\n",
       "    </tr>\n",
       "    <tr>\n",
       "      <th>Day Charge</th>\n",
       "      <td>7.641200</td>\n",
       "      <td>21.672</td>\n",
       "      <td>0.353</td>\n",
       "      <td>0.724</td>\n",
       "      <td>-34.835</td>\n",
       "      <td>50.118</td>\n",
       "      <td>2082.241007</td>\n",
       "    </tr>\n",
       "    <tr>\n",
       "      <th>Eve Mins</th>\n",
       "      <td>-0.460900</td>\n",
       "      <td>1.838</td>\n",
       "      <td>-0.251</td>\n",
       "      <td>0.802</td>\n",
       "      <td>-4.062</td>\n",
       "      <td>3.141</td>\n",
       "      <td>0.630716</td>\n",
       "    </tr>\n",
       "    <tr>\n",
       "      <th>Eve Calls</th>\n",
       "      <td>0.003100</td>\n",
       "      <td>0.003</td>\n",
       "      <td>0.996</td>\n",
       "      <td>0.319</td>\n",
       "      <td>-0.003</td>\n",
       "      <td>0.009</td>\n",
       "      <td>1.003105</td>\n",
       "    </tr>\n",
       "    <tr>\n",
       "      <th>Eve Charge</th>\n",
       "      <td>5.502300</td>\n",
       "      <td>21.619</td>\n",
       "      <td>0.255</td>\n",
       "      <td>0.799</td>\n",
       "      <td>-36.870</td>\n",
       "      <td>47.874</td>\n",
       "      <td>245.255371</td>\n",
       "    </tr>\n",
       "    <tr>\n",
       "      <th>Night Mins</th>\n",
       "      <td>0.273000</td>\n",
       "      <td>0.989</td>\n",
       "      <td>0.276</td>\n",
       "      <td>0.782</td>\n",
       "      <td>-1.665</td>\n",
       "      <td>2.211</td>\n",
       "      <td>1.313900</td>\n",
       "    </tr>\n",
       "    <tr>\n",
       "      <th>Night Calls</th>\n",
       "      <td>0.000053</td>\n",
       "      <td>0.003</td>\n",
       "      <td>0.016</td>\n",
       "      <td>0.987</td>\n",
       "      <td>-0.006</td>\n",
       "      <td>0.006</td>\n",
       "      <td>1.000053</td>\n",
       "    </tr>\n",
       "    <tr>\n",
       "      <th>Night Charge</th>\n",
       "      <td>-5.974200</td>\n",
       "      <td>21.972</td>\n",
       "      <td>-0.272</td>\n",
       "      <td>0.786</td>\n",
       "      <td>-49.039</td>\n",
       "      <td>37.090</td>\n",
       "      <td>0.002544</td>\n",
       "    </tr>\n",
       "    <tr>\n",
       "      <th>Intl Mins</th>\n",
       "      <td>-0.003000</td>\n",
       "      <td>5.999</td>\n",
       "      <td>-0.000</td>\n",
       "      <td>1.000</td>\n",
       "      <td>-11.761</td>\n",
       "      <td>11.755</td>\n",
       "      <td>0.997004</td>\n",
       "    </tr>\n",
       "    <tr>\n",
       "      <th>Intl Calls</th>\n",
       "      <td>-0.119600</td>\n",
       "      <td>0.029</td>\n",
       "      <td>-4.090</td>\n",
       "      <td>0.000</td>\n",
       "      <td>-0.177</td>\n",
       "      <td>-0.062</td>\n",
       "      <td>0.887275</td>\n",
       "    </tr>\n",
       "    <tr>\n",
       "      <th>Intl Charge</th>\n",
       "      <td>0.345300</td>\n",
       "      <td>22.218</td>\n",
       "      <td>0.016</td>\n",
       "      <td>0.988</td>\n",
       "      <td>-43.202</td>\n",
       "      <td>43.893</td>\n",
       "      <td>1.412414</td>\n",
       "    </tr>\n",
       "    <tr>\n",
       "      <th>CustServ Calls</th>\n",
       "      <td>0.541400</td>\n",
       "      <td>0.045</td>\n",
       "      <td>12.116</td>\n",
       "      <td>0.000</td>\n",
       "      <td>0.454</td>\n",
       "      <td>0.629</td>\n",
       "      <td>1.718411</td>\n",
       "    </tr>\n",
       "  </tbody>\n",
       "</table>\n",
       "</div>"
      ],
      "text/plain": [
       "                    coef  std err       z  P>|z|  [0.025  0.975]   odds_ratio\n",
       "const          -8.641200    0.820 -10.534  0.000 -10.249  -7.033     0.000177\n",
       "Account Length  0.000800    0.002   0.492  0.623  -0.002   0.004     1.000800\n",
       "Int'l Plan      2.087200    0.163  12.839  0.000   1.769   2.406     8.062309\n",
       "VMail Plan     -1.936200    0.655  -2.955  0.003  -3.221  -0.652     0.144251\n",
       "VMail Message   0.032600    0.020   1.597  0.110  -0.007   0.073     1.033137\n",
       "Day Mins       -1.286400    3.684  -0.349  0.727  -8.507   5.935     0.276264\n",
       "Day Calls       0.002500    0.003   0.798  0.425  -0.004   0.009     1.002503\n",
       "Day Charge      7.641200   21.672   0.353  0.724 -34.835  50.118  2082.241007\n",
       "Eve Mins       -0.460900    1.838  -0.251  0.802  -4.062   3.141     0.630716\n",
       "Eve Calls       0.003100    0.003   0.996  0.319  -0.003   0.009     1.003105\n",
       "Eve Charge      5.502300   21.619   0.255  0.799 -36.870  47.874   245.255371\n",
       "Night Mins      0.273000    0.989   0.276  0.782  -1.665   2.211     1.313900\n",
       "Night Calls     0.000053    0.003   0.016  0.987  -0.006   0.006     1.000053\n",
       "Night Charge   -5.974200   21.972  -0.272  0.786 -49.039  37.090     0.002544\n",
       "Intl Mins      -0.003000    5.999  -0.000  1.000 -11.761  11.755     0.997004\n",
       "Intl Calls     -0.119600    0.029  -4.090  0.000  -0.177  -0.062     0.887275\n",
       "Intl Charge     0.345300   22.218   0.016  0.988 -43.202  43.893     1.412414\n",
       "CustServ Calls  0.541400    0.045  12.116  0.000   0.454   0.629     1.718411"
      ]
     },
     "execution_count": 38,
     "metadata": {},
     "output_type": "execute_result"
    }
   ],
   "source": [
    "coef_sm"
   ]
  },
  {
   "cell_type": "code",
   "execution_count": 39,
   "metadata": {},
   "outputs": [],
   "source": [
    "# In case of linear regression, the thetas use to represent the effect of feature on target variable\n",
    "# so if one of the constant is very high, the dependency of that variable becomes higher\n",
    "\n",
    "# here that is not the case"
   ]
  },
  {
   "cell_type": "code",
   "execution_count": 40,
   "metadata": {},
   "outputs": [],
   "source": [
    "# The above summary gives the odds_ratio of every feature\n",
    "# i.e. theta0 + theta1[x] + theta2[x] + theta3[x] + ... + thetam[x] = log(p/(1-p))"
   ]
  },
  {
   "cell_type": "code",
   "execution_count": 41,
   "metadata": {},
   "outputs": [],
   "source": [
    "# so from the odd ratio if the magnitude is really really high\n",
    "# then we can say that the impact of that feature is very high\n",
    "# if the magnitude is significantly low, then impact of that feature is low\n",
    "# and if the magnitude is somewhat closer to 1 -> the impact is negligible"
   ]
  },
  {
   "cell_type": "code",
   "execution_count": 42,
   "metadata": {},
   "outputs": [],
   "source": [
    "# Predictions from statsmodels\n",
    "X_test_sm = sm.add_constant(X_test)\n",
    "pred_sm = sm_model.predict(X_test_sm)"
   ]
  },
  {
   "cell_type": "code",
   "execution_count": 43,
   "metadata": {},
   "outputs": [],
   "source": [
    "pred_sm = np.where(pred_sm>0.5,1,0)"
   ]
  },
  {
   "cell_type": "code",
   "execution_count": 44,
   "metadata": {},
   "outputs": [],
   "source": [
    "# Predictions from Logit model\n",
    "y_pred = logit.predict(X_test)"
   ]
  },
  {
   "cell_type": "code",
   "execution_count": 45,
   "metadata": {},
   "outputs": [
    {
     "name": "stdout",
     "output_type": "stream",
     "text": [
      "[[551  18]\n",
      " [ 82  16]]\n"
     ]
    }
   ],
   "source": [
    "# Confusion matrix for stats model\n",
    "from sklearn.metrics import confusion_matrix, precision_score, recall_score\n",
    "print(confusion_matrix(y_test,pred_sm))"
   ]
  },
  {
   "cell_type": "code",
   "execution_count": 46,
   "metadata": {},
   "outputs": [
    {
     "name": "stdout",
     "output_type": "stream",
     "text": [
      "[[561   8]\n",
      " [ 91   7]]\n"
     ]
    }
   ],
   "source": [
    "# Confusion matrix for logistic model\n",
    "print(confusion_matrix(y_test,y_pred))"
   ]
  },
  {
   "cell_type": "code",
   "execution_count": 47,
   "metadata": {},
   "outputs": [],
   "source": [
    "# both of the models are not satisfactory,although among these we can say that stats model is preferable"
   ]
  },
  {
   "cell_type": "code",
   "execution_count": 48,
   "metadata": {},
   "outputs": [
    {
     "name": "stdout",
     "output_type": "stream",
     "text": [
      "Stats Model Prediction Score: 0.47058823529411764\n",
      "Logistic Model Prediction Score: 0.4666666666666667\n"
     ]
    }
   ],
   "source": [
    "# precision is correct predictions out of positive predictions, so how many predictions are right.\n",
    "print(\"Stats Model Prediction Score:\", precision_score(y_test,pred_sm))\n",
    "print(\"Logistic Model Prediction Score:\", precision_score(y_test,y_pred))"
   ]
  },
  {
   "cell_type": "code",
   "execution_count": 49,
   "metadata": {},
   "outputs": [
    {
     "name": "stdout",
     "output_type": "stream",
     "text": [
      "Stats Model Recall Score: 0.16326530612244897\n",
      "Logistic Model Recall Score: 0.07142857142857142\n"
     ]
    }
   ],
   "source": [
    "# Recall score is:  of all events : how many did we predict\n",
    "print(\"Stats Model Recall Score:\", recall_score(y_test,pred_sm))\n",
    "print(\"Logistic Model Recall Score:\", recall_score(y_test,y_pred))"
   ]
  },
  {
   "cell_type": "code",
   "execution_count": 50,
   "metadata": {},
   "outputs": [],
   "source": [
    "# Which is better? precision score or recall score -> it depends on what business problem we are solving\n",
    "# in below image : the first scenario is for patients having cancer : \n",
    "# The false positive are 2 hence -> tested and result is negative but the prediction was positive -> this is not a major problem\n",
    "# but in case of false negative 80 -> tested and result is positive but the prediction was negative -> this is a severe proeblem\n",
    "# so in this case False positive (FP) is moderately okay, but false negative is not at all acceptable\n",
    "\n",
    "# In the second scenario consider the manager wants to spend some potential money and wants to convert in their business\n",
    "# so the false positive is 400 -> 400 people were supposed to convert as prediction is positive but the reality is they didnt\n",
    "                            #  -> major problem as cost of 400 people is heavy\n",
    "                            #  -> secondly, 80 people who are converted already to bussinesss but on prediction, we found that they didnt\n",
    "                            #  -> not a major problem"
   ]
  },
  {
   "attachments": {},
   "cell_type": "markdown",
   "metadata": {},
   "source": [
    "![](4.png)"
   ]
  },
  {
   "cell_type": "code",
   "execution_count": 51,
   "metadata": {},
   "outputs": [],
   "source": [
    "# when prcision and recall are equally important we use f1 score"
   ]
  },
  {
   "cell_type": "code",
   "execution_count": 52,
   "metadata": {},
   "outputs": [],
   "source": [
    "# Why 0.5 cutoff?\n",
    "# how do we compare models? "
   ]
  },
  {
   "cell_type": "code",
   "execution_count": 53,
   "metadata": {},
   "outputs": [
    {
     "name": "stdout",
     "output_type": "stream",
     "text": [
      "Stats model with 0.3 cutoff\n",
      "[[551  18]\n",
      " [ 82  16]]\n"
     ]
    }
   ],
   "source": [
    "# suppose we change the cutoff to 0.3 therefore if there are 30% chances of man to churn, we will consider them to predict churn\n",
    "pred_0_3 = np.where(pred_sm>0.3,1,0)\n",
    "print(\"Stats model with 0.3 cutoff\")\n",
    "print(confusion_matrix(y_test,pred_0_3))"
   ]
  },
  {
   "cell_type": "code",
   "execution_count": 54,
   "metadata": {},
   "outputs": [
    {
     "name": "stdout",
     "output_type": "stream",
     "text": [
      "0.47058823529411764\n",
      "0.16326530612244897\n"
     ]
    }
   ],
   "source": [
    "print(precision_score(y_test,pred_0_3))\n",
    "print(recall_score(y_test,pred_0_3))"
   ]
  },
  {
   "cell_type": "code",
   "execution_count": 55,
   "metadata": {},
   "outputs": [],
   "source": [
    "# there is not a drastic change here, but there are high chances of major changes here, so we need to \n",
    "# find the correct value of cutoff in case of classification problem\n",
    "# for this we have ROC-AUC curve"
   ]
  },
  {
   "cell_type": "code",
   "execution_count": 57,
   "metadata": {},
   "outputs": [],
   "source": [
    "# 1 20 notebook"
   ]
  },
  {
   "attachments": {},
   "cell_type": "markdown",
   "metadata": {},
   "source": [
    "![](5.png)"
   ]
  },
  {
   "cell_type": "code",
   "execution_count": 58,
   "metadata": {},
   "outputs": [],
   "source": [
    "from sklearn.metrics import roc_curve,auc"
   ]
  },
  {
   "cell_type": "code",
   "execution_count": 59,
   "metadata": {},
   "outputs": [],
   "source": [
    "# Roc graph and auc of logit model\n",
    "\n",
    "y_pred_prob = logit.predict_proba(X_test)\n",
    "fpr, tpr, thresholds = roc_curve(y_test,y_pred_prob[:,1],pos_label=1)\n",
    "roc_auc = auc(fpr,tpr)"
   ]
  },
  {
   "cell_type": "code",
   "execution_count": 60,
   "metadata": {},
   "outputs": [
    {
     "data": {
      "image/png": "[encoded data removed]",
      "text/plain": [
       "<Figure size 432x288 with 1 Axes>"
      ]
     },
     "metadata": {
      "needs_background": "light"
     },
     "output_type": "display_data"
    }
   ],
   "source": [
    "# ROC Graph of logit model\n",
    "plt.figure()\n",
    "plt.xlabel(\"FPR\")\n",
    "plt.ylabel(\"TPR\")\n",
    "plt.plot([0,1],[0,1],color=\"navy\",linestyle=\"--\")\n",
    "plt.xlim([0.0,1.0])\n",
    "plt.ylim([0.0,1.05])\n",
    "plt.title(\"logistic regression roc\")\n",
    "plt.plot(fpr,tpr,color=\"blue\",lw=2,label=\"Logistic ROC area =%0.2f\" % roc_auc)\n",
    "plt.legend(loc=\"lower right\")\n",
    "plt.show()"
   ]
  },
  {
   "cell_type": "code",
   "execution_count": 61,
   "metadata": {},
   "outputs": [],
   "source": [
    "# Roc graph and auc of stats model\n",
    "\n",
    "y_pred_sm = sm_model.predict(X_test_sm)\n",
    "fpr, tpr, thresholds = roc_curve(y_test,y_pred_sm,pos_label=1)\n",
    "roc_auc_sm = auc(fpr,tpr)"
   ]
  },
  {
   "cell_type": "code",
   "execution_count": 62,
   "metadata": {},
   "outputs": [
    {
     "data": {
      "image/png": "[encoded data removed]",
      "text/plain": [
       "<Figure size 432x288 with 1 Axes>"
      ]
     },
     "metadata": {
      "needs_background": "light"
     },
     "output_type": "display_data"
    }
   ],
   "source": [
    "# ROC Graph of logit model\n",
    "plt.figure()\n",
    "plt.xlabel(\"FPR\")\n",
    "plt.ylabel(\"TPR\")\n",
    "plt.plot([0,1],[0,1],color=\"navy\",linestyle=\"--\")\n",
    "plt.xlim([0.0,1.0])\n",
    "plt.ylim([0.0,1.05])\n",
    "plt.title(\"logistic regression roc\")\n",
    "plt.plot(fpr,tpr,color=\"blue\",lw=2,label=\"Logistic ROC area =%0.2f\" % roc_auc_sm)\n",
    "plt.legend(loc=\"lower right\")\n",
    "plt.show()"
   ]
  },
  {
   "cell_type": "code",
   "execution_count": 63,
   "metadata": {},
   "outputs": [],
   "source": [
    "# for stats model it is 0.8 hence stats mode is great"
   ]
  },
  {
   "cell_type": "code",
   "execution_count": 64,
   "metadata": {},
   "outputs": [
    {
     "data": {
      "text/plain": [
       "Index(['Day Mins', 'Eve Mins', 'CustServ Calls', 'Int'l Plan',\n",
       "       'VMail Message'],\n",
       "      dtype='object')"
      ]
     },
     "execution_count": 64,
     "metadata": {},
     "output_type": "execute_result"
    }
   ],
   "source": [
    "# variables selected (just by intuition from stats model) \n",
    "# other variables is having multi-collinearity problem or they are generating noise in predicting model\n",
    "cols = [\"Day Mins\",\"Eve Mins\",\"CustServ Calls\", \"Int'l Plan\",\"VMail Message\"]\n",
    "X_trainV2 = X_train[cols]\n",
    "X_testV2 = X_test[cols]\n",
    "\n",
    "X_trainV2.columns"
   ]
  },
  {
   "cell_type": "code",
   "execution_count": 67,
   "metadata": {},
   "outputs": [
    {
     "data": {
      "text/html": [
       "<style>#sk-container-id-3 {color: black;background-color: white;}#sk-container-id-3 pre{padding: 0;}#sk-container-id-3 div.sk-toggleable {background-color: white;}#sk-container-id-3 label.sk-toggleable__label {cursor: pointer;display: block;width: 100%;margin-bottom: 0;padding: 0.3em;box-sizing: border-box;text-align: center;}#sk-container-id-3 label.sk-toggleable__label-arrow:before {content: \"▸\";float: left;margin-right: 0.25em;color: #696969;}#sk-container-id-3 label.sk-toggleable__label-arrow:hover:before {color: black;}#sk-container-id-3 div.sk-estimator:hover label.sk-toggleable__label-arrow:before {color: black;}#sk-container-id-3 div.sk-toggleable__content {max-height: 0;max-width: 0;overflow: hidden;text-align: left;background-color: #f0f8ff;}#sk-container-id-3 div.sk-toggleable__content pre {margin: 0.2em;color: black;border-radius: 0.25em;background-color: #f0f8ff;}#sk-container-id-3 input.sk-toggleable__control:checked~div.sk-toggleable__content {max-height: 200px;max-width: 100%;overflow: auto;}#sk-container-id-3 input.sk-toggleable__control:checked~label.sk-toggleable__label-arrow:before {content: \"▾\";}#sk-container-id-3 div.sk-estimator input.sk-toggleable__control:checked~label.sk-toggleable__label {background-color: #d4ebff;}#sk-container-id-3 div.sk-label input.sk-toggleable__control:checked~label.sk-toggleable__label {background-color: #d4ebff;}#sk-container-id-3 input.sk-hidden--visually {border: 0;clip: rect(1px 1px 1px 1px);clip: rect(1px, 1px, 1px, 1px);height: 1px;margin: -1px;overflow: hidden;padding: 0;position: absolute;width: 1px;}#sk-container-id-3 div.sk-estimator {font-family: monospace;background-color: #f0f8ff;border: 1px dotted black;border-radius: 0.25em;box-sizing: border-box;margin-bottom: 0.5em;}#sk-container-id-3 div.sk-estimator:hover {background-color: #d4ebff;}#sk-container-id-3 div.sk-parallel-item::after {content: \"\";width: 100%;border-bottom: 1px solid gray;flex-grow: 1;}#sk-container-id-3 div.sk-label:hover label.sk-toggleable__label {background-color: #d4ebff;}#sk-container-id-3 div.sk-serial::before {content: \"\";position: absolute;border-left: 1px solid gray;box-sizing: border-box;top: 0;bottom: 0;left: 50%;z-index: 0;}#sk-container-id-3 div.sk-serial {display: flex;flex-direction: column;align-items: center;background-color: white;padding-right: 0.2em;padding-left: 0.2em;position: relative;}#sk-container-id-3 div.sk-item {position: relative;z-index: 1;}#sk-container-id-3 div.sk-parallel {display: flex;align-items: stretch;justify-content: center;background-color: white;position: relative;}#sk-container-id-3 div.sk-item::before, #sk-container-id-3 div.sk-parallel-item::before {content: \"\";position: absolute;border-left: 1px solid gray;box-sizing: border-box;top: 0;bottom: 0;left: 50%;z-index: -1;}#sk-container-id-3 div.sk-parallel-item {display: flex;flex-direction: column;z-index: 1;position: relative;background-color: white;}#sk-container-id-3 div.sk-parallel-item:first-child::after {align-self: flex-end;width: 50%;}#sk-container-id-3 div.sk-parallel-item:last-child::after {align-self: flex-start;width: 50%;}#sk-container-id-3 div.sk-parallel-item:only-child::after {width: 0;}#sk-container-id-3 div.sk-dashed-wrapped {border: 1px dashed gray;margin: 0 0.4em 0.5em 0.4em;box-sizing: border-box;padding-bottom: 0.4em;background-color: white;}#sk-container-id-3 div.sk-label label {font-family: monospace;font-weight: bold;display: inline-block;line-height: 1.2em;}#sk-container-id-3 div.sk-label-container {text-align: center;}#sk-container-id-3 div.sk-container {/* jupyter's `normalize.less` sets `[hidden] { display: none; }` but bootstrap.min.css set `[hidden] { display: none !important; }` so we also need the `!important` here to be able to override the default hidden behavior on the sphinx rendered scikit-learn.org. See: https://github.com/scikit-learn/scikit-learn/issues/21755 */display: inline-block !important;position: relative;}#sk-container-id-3 div.sk-text-repr-fallback {display: none;}</style><div id=\"sk-container-id-3\" class=\"sk-top-container\"><div class=\"sk-text-repr-fallback\"><pre>LogisticRegression()</pre><b>In a Jupyter environment, please rerun this cell to show the HTML representation or trust the notebook. <br />On GitHub, the HTML representation is unable to render, please try loading this page with nbviewer.org.</b></div><div class=\"sk-container\" hidden><div class=\"sk-item\"><div class=\"sk-estimator sk-toggleable\"><input class=\"sk-toggleable__control sk-hidden--visually\" id=\"sk-estimator-id-3\" type=\"checkbox\" checked><label for=\"sk-estimator-id-3\" class=\"sk-toggleable__label sk-toggleable__label-arrow\">LogisticRegression</label><div class=\"sk-toggleable__content\"><pre>LogisticRegression()</pre></div></div></div></div></div>"
      ],
      "text/plain": [
       "LogisticRegression()"
      ]
     },
     "execution_count": 67,
     "metadata": {},
     "output_type": "execute_result"
    }
   ],
   "source": [
    "log_model = LogisticRegression() # we the warning is also gone\n",
    "log_model.fit(X_trainV2,y_train)"
   ]
  },
  {
   "cell_type": "code",
   "execution_count": 68,
   "metadata": {},
   "outputs": [
    {
     "data": {
      "text/plain": [
       "array([[ 0.01212987,  0.00613339,  0.5197262 ,  2.00663606, -0.02658273]])"
      ]
     },
     "execution_count": 68,
     "metadata": {},
     "output_type": "execute_result"
    }
   ],
   "source": [
    "log_model.coef_"
   ]
  },
  {
   "cell_type": "code",
   "execution_count": 69,
   "metadata": {},
   "outputs": [],
   "source": [
    "coef = np.array(log_model.coef_)\n",
    "coef = coef.reshape([len(cols),])\n",
    "var_coef = pd.DataFrame({\"Vars\":cols,\"coef\":coef})\n",
    "var_coef[\"odds ratio\"] = np.exp(var_coef[\"coef\"])"
   ]
  },
  {
   "cell_type": "code",
   "execution_count": 70,
   "metadata": {},
   "outputs": [
    {
     "data": {
      "text/html": [
       "<div>\n",
       "<style scoped>\n",
       "    .dataframe tbody tr th:only-of-type {\n",
       "        vertical-align: middle;\n",
       "    }\n",
       "\n",
       "    .dataframe tbody tr th {\n",
       "        vertical-align: top;\n",
       "    }\n",
       "\n",
       "    .dataframe thead th {\n",
       "        text-align: right;\n",
       "    }\n",
       "</style>\n",
       "<table border=\"1\" class=\"dataframe\">\n",
       "  <thead>\n",
       "    <tr style=\"text-align: right;\">\n",
       "      <th></th>\n",
       "      <th>Vars</th>\n",
       "      <th>coef</th>\n",
       "      <th>odds ratio</th>\n",
       "    </tr>\n",
       "  </thead>\n",
       "  <tbody>\n",
       "    <tr>\n",
       "      <th>0</th>\n",
       "      <td>Day Mins</td>\n",
       "      <td>0.012130</td>\n",
       "      <td>1.012204</td>\n",
       "    </tr>\n",
       "    <tr>\n",
       "      <th>1</th>\n",
       "      <td>Eve Mins</td>\n",
       "      <td>0.006133</td>\n",
       "      <td>1.006152</td>\n",
       "    </tr>\n",
       "    <tr>\n",
       "      <th>2</th>\n",
       "      <td>CustServ Calls</td>\n",
       "      <td>0.519726</td>\n",
       "      <td>1.681567</td>\n",
       "    </tr>\n",
       "    <tr>\n",
       "      <th>3</th>\n",
       "      <td>Int'l Plan</td>\n",
       "      <td>2.006636</td>\n",
       "      <td>7.438253</td>\n",
       "    </tr>\n",
       "    <tr>\n",
       "      <th>4</th>\n",
       "      <td>VMail Message</td>\n",
       "      <td>-0.026583</td>\n",
       "      <td>0.973767</td>\n",
       "    </tr>\n",
       "  </tbody>\n",
       "</table>\n",
       "</div>"
      ],
      "text/plain": [
       "             Vars      coef  odds ratio\n",
       "0        Day Mins  0.012130    1.012204\n",
       "1        Eve Mins  0.006133    1.006152\n",
       "2  CustServ Calls  0.519726    1.681567\n",
       "3      Int'l Plan  2.006636    7.438253\n",
       "4   VMail Message -0.026583    0.973767"
      ]
     },
     "execution_count": 70,
     "metadata": {},
     "output_type": "execute_result"
    }
   ],
   "source": [
    "var_coef"
   ]
  },
  {
   "cell_type": "code",
   "execution_count": 71,
   "metadata": {},
   "outputs": [
    {
     "data": {
      "text/plain": [
       "array([[556,  13],\n",
       "       [ 86,  12]], dtype=int64)"
      ]
     },
     "execution_count": 71,
     "metadata": {},
     "output_type": "execute_result"
    }
   ],
   "source": [
    "predV2 = log_model.predict(X_testV2) # cutoff = 0.5\n",
    "confusion_matrix(y_test,predV2)"
   ]
  },
  {
   "cell_type": "code",
   "execution_count": 72,
   "metadata": {},
   "outputs": [],
   "source": [
    "probV2 = log_model.predict_proba(X_testV2)"
   ]
  },
  {
   "cell_type": "code",
   "execution_count": 74,
   "metadata": {},
   "outputs": [
    {
     "data": {
      "text/plain": [
       "array([[513,  56],\n",
       "       [ 68,  30]], dtype=int64)"
      ]
     },
     "execution_count": 74,
     "metadata": {},
     "output_type": "execute_result"
    }
   ],
   "source": [
    "predV2_03 = np.where(probV2[:,1]>0.3,1,0)\n",
    "confusion_matrix(y_test,predV2_03)"
   ]
  },
  {
   "cell_type": "code",
   "execution_count": 75,
   "metadata": {},
   "outputs": [
    {
     "data": {
      "text/plain": [
       "0.3488372093023256"
      ]
     },
     "execution_count": 75,
     "metadata": {},
     "output_type": "execute_result"
    }
   ],
   "source": [
    "precision_score(y_test,predV2_03)"
   ]
  },
  {
   "cell_type": "code",
   "execution_count": 76,
   "metadata": {},
   "outputs": [
    {
     "data": {
      "text/plain": [
       "0.30612244897959184"
      ]
     },
     "execution_count": 76,
     "metadata": {},
     "output_type": "execute_result"
    }
   ],
   "source": [
    "recall_score(y_test,predV2_03)"
   ]
  },
  {
   "cell_type": "code",
   "execution_count": 77,
   "metadata": {},
   "outputs": [],
   "source": [
    "# ROC graph and AUC\n",
    "fprV2,tprV2,thresholdsV2 = roc_curve(y_test,probV2[:,1],pos_label=1)\n",
    "roc_aucV2 = auc(fprV2,tprV2)"
   ]
  },
  {
   "cell_type": "code",
   "execution_count": 78,
   "metadata": {},
   "outputs": [
    {
     "data": {
      "image/png": "[encoded data removed]",
      "text/plain": [
       "<Figure size 432x288 with 1 Axes>"
      ]
     },
     "metadata": {
      "needs_background": "light"
     },
     "output_type": "display_data"
    }
   ],
   "source": [
    "# ROC Graph of logit model\n",
    "plt.figure()\n",
    "plt.xlabel(\"FPRV2\")\n",
    "plt.ylabel(\"TPRV2\")\n",
    "plt.plot([0,1],[0,1],color=\"navy\",linestyle=\"--\")\n",
    "plt.xlim([0.0,1.0])\n",
    "plt.ylim([0.0,1.05])\n",
    "plt.title(\"logistic regression roc V2\")\n",
    "plt.plot(fpr,tpr,color=\"blue\",lw=2,label=\"Logistic ROC area (V2) =%0.2f\" % roc_aucV2)\n",
    "plt.legend(loc=\"lower right\")\n",
    "plt.show()"
   ]
  },
  {
   "cell_type": "code",
   "execution_count": 89,
   "metadata": {},
   "outputs": [],
   "source": [
    "# so with few variables also we can acheive same score i.e. 0.8 so this a better model compared to the previous models"
   ]
  },
  {
   "cell_type": "code",
   "execution_count": 90,
   "metadata": {},
   "outputs": [],
   "source": [
    "# 1:52 logistic regressioin 2 notebook"
   ]
  },
  {
   "cell_type": "code",
   "execution_count": 79,
   "metadata": {},
   "outputs": [],
   "source": [
    "from sklearn.metrics import precision_recall_curve"
   ]
  },
  {
   "cell_type": "code",
   "execution_count": 80,
   "metadata": {},
   "outputs": [
    {
     "data": {
      "image/png": "[encoded data removed]",
      "text/plain": [
       "<Figure size 432x288 with 1 Axes>"
      ]
     },
     "metadata": {
      "needs_background": "light"
     },
     "output_type": "display_data"
    }
   ],
   "source": [
    "precision, recall, thresholds = precision_recall_curve(y_test,probV2[:,1])\n",
    "plt.plot(recall,precision,marker='.',label='logistic')\n",
    "plt.xlabel(\"recall\")\n",
    "plt.ylabel(\"precision\")\n",
    "plt.legend()\n",
    "plt.show()"
   ]
  },
  {
   "attachments": {},
   "cell_type": "markdown",
   "metadata": {},
   "source": [
    "![](6.png)"
   ]
  },
  {
   "cell_type": "code",
   "execution_count": 87,
   "metadata": {},
   "outputs": [],
   "source": [
    "def pcurve(probs, actuals, cuts = np.arange(0.05,0.95,0.05)):\n",
    "    precision = np.zeros(len(cuts))\n",
    "    recall = np.zeros(len(cuts))\n",
    "\n",
    "    for i in np.arange(len(cuts)):\n",
    "        temp_preds = np.where(probV2[:,1]>cuts[i],1,0)\n",
    "        precision[i] = precision_score(actuals,temp_preds)\n",
    "        recall[i] = recall_score(actuals,temp_preds)\n",
    "    \n",
    "    fig,ax = plt.subplots(figsize=[15,8])\n",
    "    plt.plot(recall,precision,marker='o',linestyle='dashed',label=cuts)\n",
    "    plt.xlabel(\"recall\")\n",
    "    plt.ylabel(\"precision\")\n",
    "    plt.title(\"Precision vs Recall\")\n",
    "\n",
    "    for x,y,z in zip(recall,precision,cuts):\n",
    "        label = \"{:.2f}\".format(z)\n",
    "\n",
    "        plt.annotate(label, # this is text\n",
    "                     (x,y), # this is point to label\n",
    "                     textcoords=\"offset points\", # how to position the text\n",
    "                     xytext = (0,5), # distance from text to points (x,y)\n",
    "                     ha = \"center\")\n",
    "    # return precision, recall, cuts"
   ]
  },
  {
   "cell_type": "code",
   "execution_count": 88,
   "metadata": {},
   "outputs": [
    {
     "data": {
      "image/png": "[encoded data removed]",
      "text/plain": [
       "<Figure size 1080x576 with 1 Axes>"
      ]
     },
     "metadata": {
      "needs_background": "light"
     },
     "output_type": "display_data"
    }
   ],
   "source": [
    "pcurve(probV2,y_test)"
   ]
  },
  {
   "cell_type": "code",
   "execution_count": 89,
   "metadata": {},
   "outputs": [],
   "source": [
    "# based on requirement of model, if we want high recall \n",
    "# we select cutoff as 0.1 and if we want high precision, we select cutoff as 0.7 maybe \n",
    "# hence on the businesss requirement, the cutoff is selected"
   ]
  },
  {
   "cell_type": "code",
   "execution_count": 90,
   "metadata": {},
   "outputs": [],
   "source": [
    "# what are the other factors to predict whether the model is fair or not\n",
    "# so basically, there are different charts/analysis which could help to solve the problem\n",
    "\n",
    "# so first is benchmark\n",
    "# so for example there benchmark that 5 internationall calls\n",
    "# per day would not have a chance of churning\n",
    "# so this benchmark would potentially help us a lot"
   ]
  },
  {
   "cell_type": "code",
   "execution_count": 92,
   "metadata": {},
   "outputs": [
    {
     "name": "stderr",
     "output_type": "stream",
     "text": [
      "C:\\Users\\parth\\AppData\\Local\\Temp\\ipykernel_13404\\1111849288.py:2: SettingWithCopyWarning: \n",
      "A value is trying to be set on a copy of a slice from a DataFrame.\n",
      "Try using .loc[row_indexer,col_indexer] = value instead\n",
      "\n",
      "See the caveats in the documentation: https://pandas.pydata.org/pandas-docs/stable/user_guide/indexing.html#returning-a-view-versus-a-copy\n",
      "  chart_data[\"prob\"] = probV2[:,1]\n"
     ]
    },
    {
     "data": {
      "text/html": [
       "<div>\n",
       "<style scoped>\n",
       "    .dataframe tbody tr th:only-of-type {\n",
       "        vertical-align: middle;\n",
       "    }\n",
       "\n",
       "    .dataframe tbody tr th {\n",
       "        vertical-align: top;\n",
       "    }\n",
       "\n",
       "    .dataframe thead th {\n",
       "        text-align: right;\n",
       "    }\n",
       "</style>\n",
       "<table border=\"1\" class=\"dataframe\">\n",
       "  <thead>\n",
       "    <tr style=\"text-align: right;\">\n",
       "      <th></th>\n",
       "      <th>Day Mins</th>\n",
       "      <th>Eve Mins</th>\n",
       "      <th>CustServ Calls</th>\n",
       "      <th>Int'l Plan</th>\n",
       "      <th>VMail Message</th>\n",
       "      <th>prob</th>\n",
       "    </tr>\n",
       "  </thead>\n",
       "  <tbody>\n",
       "    <tr>\n",
       "      <th>2360</th>\n",
       "      <td>222.1</td>\n",
       "      <td>199.4</td>\n",
       "      <td>2</td>\n",
       "      <td>0</td>\n",
       "      <td>0</td>\n",
       "      <td>0.183993</td>\n",
       "    </tr>\n",
       "    <tr>\n",
       "      <th>600</th>\n",
       "      <td>102.6</td>\n",
       "      <td>246.0</td>\n",
       "      <td>2</td>\n",
       "      <td>0</td>\n",
       "      <td>0</td>\n",
       "      <td>0.065790</td>\n",
       "    </tr>\n",
       "    <tr>\n",
       "      <th>1501</th>\n",
       "      <td>272.4</td>\n",
       "      <td>107.9</td>\n",
       "      <td>0</td>\n",
       "      <td>0</td>\n",
       "      <td>0</td>\n",
       "      <td>0.077269</td>\n",
       "    </tr>\n",
       "    <tr>\n",
       "      <th>1114</th>\n",
       "      <td>165.1</td>\n",
       "      <td>267.0</td>\n",
       "      <td>1</td>\n",
       "      <td>0</td>\n",
       "      <td>15</td>\n",
       "      <td>0.063878</td>\n",
       "    </tr>\n",
       "    <tr>\n",
       "      <th>517</th>\n",
       "      <td>214.7</td>\n",
       "      <td>158.6</td>\n",
       "      <td>2</td>\n",
       "      <td>0</td>\n",
       "      <td>0</td>\n",
       "      <td>0.138294</td>\n",
       "    </tr>\n",
       "  </tbody>\n",
       "</table>\n",
       "</div>"
      ],
      "text/plain": [
       "      Day Mins  Eve Mins  CustServ Calls  Int'l Plan  VMail Message      prob\n",
       "2360     222.1     199.4               2           0              0  0.183993\n",
       "600      102.6     246.0               2           0              0  0.065790\n",
       "1501     272.4     107.9               0           0              0  0.077269\n",
       "1114     165.1     267.0               1           0             15  0.063878\n",
       "517      214.7     158.6               2           0              0  0.138294"
      ]
     },
     "execution_count": 92,
     "metadata": {},
     "output_type": "execute_result"
    }
   ],
   "source": [
    "chart_data = X_test[cols]\n",
    "chart_data[\"prob\"] = probV2[:,1]\n",
    "chart_data.head()"
   ]
  },
  {
   "attachments": {},
   "cell_type": "markdown",
   "metadata": {},
   "source": [
    "![](7.png)"
   ]
  },
  {
   "cell_type": "code",
   "execution_count": 94,
   "metadata": {},
   "outputs": [],
   "source": [
    "chart_data = chart_data.sort_values(by=\"prob\",ascending=False)"
   ]
  },
  {
   "cell_type": "code",
   "execution_count": 95,
   "metadata": {},
   "outputs": [
    {
     "data": {
      "text/html": [
       "<div>\n",
       "<style scoped>\n",
       "    .dataframe tbody tr th:only-of-type {\n",
       "        vertical-align: middle;\n",
       "    }\n",
       "\n",
       "    .dataframe tbody tr th {\n",
       "        vertical-align: top;\n",
       "    }\n",
       "\n",
       "    .dataframe thead th {\n",
       "        text-align: right;\n",
       "    }\n",
       "</style>\n",
       "<table border=\"1\" class=\"dataframe\">\n",
       "  <thead>\n",
       "    <tr style=\"text-align: right;\">\n",
       "      <th></th>\n",
       "      <th>Day Mins</th>\n",
       "      <th>Eve Mins</th>\n",
       "      <th>CustServ Calls</th>\n",
       "      <th>Int'l Plan</th>\n",
       "      <th>VMail Message</th>\n",
       "      <th>prob</th>\n",
       "    </tr>\n",
       "  </thead>\n",
       "  <tbody>\n",
       "    <tr>\n",
       "      <th>2732</th>\n",
       "      <td>216.2</td>\n",
       "      <td>363.7</td>\n",
       "      <td>5</td>\n",
       "      <td>1</td>\n",
       "      <td>0</td>\n",
       "      <td>0.953133</td>\n",
       "    </tr>\n",
       "    <tr>\n",
       "      <th>546</th>\n",
       "      <td>279.8</td>\n",
       "      <td>248.7</td>\n",
       "      <td>2</td>\n",
       "      <td>1</td>\n",
       "      <td>0</td>\n",
       "      <td>0.820447</td>\n",
       "    </tr>\n",
       "    <tr>\n",
       "      <th>1044</th>\n",
       "      <td>243.2</td>\n",
       "      <td>147.0</td>\n",
       "      <td>4</td>\n",
       "      <td>1</td>\n",
       "      <td>0</td>\n",
       "      <td>0.816245</td>\n",
       "    </tr>\n",
       "    <tr>\n",
       "      <th>3255</th>\n",
       "      <td>286.2</td>\n",
       "      <td>187.2</td>\n",
       "      <td>2</td>\n",
       "      <td>1</td>\n",
       "      <td>0</td>\n",
       "      <td>0.772030</td>\n",
       "    </tr>\n",
       "    <tr>\n",
       "      <th>3304</th>\n",
       "      <td>186.1</td>\n",
       "      <td>198.6</td>\n",
       "      <td>4</td>\n",
       "      <td>1</td>\n",
       "      <td>0</td>\n",
       "      <td>0.753056</td>\n",
       "    </tr>\n",
       "  </tbody>\n",
       "</table>\n",
       "</div>"
      ],
      "text/plain": [
       "      Day Mins  Eve Mins  CustServ Calls  Int'l Plan  VMail Message      prob\n",
       "2732     216.2     363.7               5           1              0  0.953133\n",
       "546      279.8     248.7               2           1              0  0.820447\n",
       "1044     243.2     147.0               4           1              0  0.816245\n",
       "3255     286.2     187.2               2           1              0  0.772030\n",
       "3304     186.1     198.6               4           1              0  0.753056"
      ]
     },
     "execution_count": 95,
     "metadata": {},
     "output_type": "execute_result"
    }
   ],
   "source": [
    "chart_data.head()"
   ]
  },
  {
   "cell_type": "code",
   "execution_count": 96,
   "metadata": {},
   "outputs": [
    {
     "data": {
      "text/plain": [
       "(667, 6)"
      ]
     },
     "execution_count": 96,
     "metadata": {},
     "output_type": "execute_result"
    }
   ],
   "source": [
    "chart_data.shape"
   ]
  },
  {
   "cell_type": "code",
   "execution_count": 97,
   "metadata": {},
   "outputs": [],
   "source": [
    "chart_data[\"decile\"] = pd.qcut(chart_data[\"prob\"],10)"
   ]
  },
  {
   "cell_type": "code",
   "execution_count": 98,
   "metadata": {},
   "outputs": [
    {
     "data": {
      "text/html": [
       "<div>\n",
       "<style scoped>\n",
       "    .dataframe tbody tr th:only-of-type {\n",
       "        vertical-align: middle;\n",
       "    }\n",
       "\n",
       "    .dataframe tbody tr th {\n",
       "        vertical-align: top;\n",
       "    }\n",
       "\n",
       "    .dataframe thead th {\n",
       "        text-align: right;\n",
       "    }\n",
       "</style>\n",
       "<table border=\"1\" class=\"dataframe\">\n",
       "  <thead>\n",
       "    <tr style=\"text-align: right;\">\n",
       "      <th></th>\n",
       "      <th>Day Mins</th>\n",
       "      <th>Eve Mins</th>\n",
       "      <th>CustServ Calls</th>\n",
       "      <th>Int'l Plan</th>\n",
       "      <th>VMail Message</th>\n",
       "      <th>prob</th>\n",
       "      <th>decile</th>\n",
       "    </tr>\n",
       "  </thead>\n",
       "  <tbody>\n",
       "    <tr>\n",
       "      <th>2732</th>\n",
       "      <td>216.2</td>\n",
       "      <td>363.7</td>\n",
       "      <td>5</td>\n",
       "      <td>1</td>\n",
       "      <td>0</td>\n",
       "      <td>0.953133</td>\n",
       "      <td>(0.337, 0.953]</td>\n",
       "    </tr>\n",
       "    <tr>\n",
       "      <th>546</th>\n",
       "      <td>279.8</td>\n",
       "      <td>248.7</td>\n",
       "      <td>2</td>\n",
       "      <td>1</td>\n",
       "      <td>0</td>\n",
       "      <td>0.820447</td>\n",
       "      <td>(0.337, 0.953]</td>\n",
       "    </tr>\n",
       "    <tr>\n",
       "      <th>1044</th>\n",
       "      <td>243.2</td>\n",
       "      <td>147.0</td>\n",
       "      <td>4</td>\n",
       "      <td>1</td>\n",
       "      <td>0</td>\n",
       "      <td>0.816245</td>\n",
       "      <td>(0.337, 0.953]</td>\n",
       "    </tr>\n",
       "    <tr>\n",
       "      <th>3255</th>\n",
       "      <td>286.2</td>\n",
       "      <td>187.2</td>\n",
       "      <td>2</td>\n",
       "      <td>1</td>\n",
       "      <td>0</td>\n",
       "      <td>0.772030</td>\n",
       "      <td>(0.337, 0.953]</td>\n",
       "    </tr>\n",
       "    <tr>\n",
       "      <th>3304</th>\n",
       "      <td>186.1</td>\n",
       "      <td>198.6</td>\n",
       "      <td>4</td>\n",
       "      <td>1</td>\n",
       "      <td>0</td>\n",
       "      <td>0.753056</td>\n",
       "      <td>(0.337, 0.953]</td>\n",
       "    </tr>\n",
       "  </tbody>\n",
       "</table>\n",
       "</div>"
      ],
      "text/plain": [
       "      Day Mins  Eve Mins  CustServ Calls  Int'l Plan  VMail Message      prob  \\\n",
       "2732     216.2     363.7               5           1              0  0.953133   \n",
       "546      279.8     248.7               2           1              0  0.820447   \n",
       "1044     243.2     147.0               4           1              0  0.816245   \n",
       "3255     286.2     187.2               2           1              0  0.772030   \n",
       "3304     186.1     198.6               4           1              0  0.753056   \n",
       "\n",
       "              decile  \n",
       "2732  (0.337, 0.953]  \n",
       "546   (0.337, 0.953]  \n",
       "1044  (0.337, 0.953]  \n",
       "3255  (0.337, 0.953]  \n",
       "3304  (0.337, 0.953]  "
      ]
     },
     "execution_count": 98,
     "metadata": {},
     "output_type": "execute_result"
    }
   ],
   "source": [
    "chart_data.head()"
   ]
  },
  {
   "cell_type": "code",
   "execution_count": 99,
   "metadata": {},
   "outputs": [],
   "source": [
    "chart_data[\"row\"] = np.arange(1,chart_data.shape[0]+1)"
   ]
  },
  {
   "cell_type": "code",
   "execution_count": 100,
   "metadata": {},
   "outputs": [
    {
     "data": {
      "text/html": [
       "<div>\n",
       "<style scoped>\n",
       "    .dataframe tbody tr th:only-of-type {\n",
       "        vertical-align: middle;\n",
       "    }\n",
       "\n",
       "    .dataframe tbody tr th {\n",
       "        vertical-align: top;\n",
       "    }\n",
       "\n",
       "    .dataframe thead th {\n",
       "        text-align: right;\n",
       "    }\n",
       "</style>\n",
       "<table border=\"1\" class=\"dataframe\">\n",
       "  <thead>\n",
       "    <tr style=\"text-align: right;\">\n",
       "      <th></th>\n",
       "      <th>Day Mins</th>\n",
       "      <th>Eve Mins</th>\n",
       "      <th>CustServ Calls</th>\n",
       "      <th>Int'l Plan</th>\n",
       "      <th>VMail Message</th>\n",
       "      <th>prob</th>\n",
       "      <th>decile</th>\n",
       "      <th>row</th>\n",
       "    </tr>\n",
       "  </thead>\n",
       "  <tbody>\n",
       "    <tr>\n",
       "      <th>2732</th>\n",
       "      <td>216.2</td>\n",
       "      <td>363.7</td>\n",
       "      <td>5</td>\n",
       "      <td>1</td>\n",
       "      <td>0</td>\n",
       "      <td>0.953133</td>\n",
       "      <td>(0.337, 0.953]</td>\n",
       "      <td>1</td>\n",
       "    </tr>\n",
       "    <tr>\n",
       "      <th>546</th>\n",
       "      <td>279.8</td>\n",
       "      <td>248.7</td>\n",
       "      <td>2</td>\n",
       "      <td>1</td>\n",
       "      <td>0</td>\n",
       "      <td>0.820447</td>\n",
       "      <td>(0.337, 0.953]</td>\n",
       "      <td>2</td>\n",
       "    </tr>\n",
       "    <tr>\n",
       "      <th>1044</th>\n",
       "      <td>243.2</td>\n",
       "      <td>147.0</td>\n",
       "      <td>4</td>\n",
       "      <td>1</td>\n",
       "      <td>0</td>\n",
       "      <td>0.816245</td>\n",
       "      <td>(0.337, 0.953]</td>\n",
       "      <td>3</td>\n",
       "    </tr>\n",
       "    <tr>\n",
       "      <th>3255</th>\n",
       "      <td>286.2</td>\n",
       "      <td>187.2</td>\n",
       "      <td>2</td>\n",
       "      <td>1</td>\n",
       "      <td>0</td>\n",
       "      <td>0.772030</td>\n",
       "      <td>(0.337, 0.953]</td>\n",
       "      <td>4</td>\n",
       "    </tr>\n",
       "    <tr>\n",
       "      <th>3304</th>\n",
       "      <td>186.1</td>\n",
       "      <td>198.6</td>\n",
       "      <td>4</td>\n",
       "      <td>1</td>\n",
       "      <td>0</td>\n",
       "      <td>0.753056</td>\n",
       "      <td>(0.337, 0.953]</td>\n",
       "      <td>5</td>\n",
       "    </tr>\n",
       "  </tbody>\n",
       "</table>\n",
       "</div>"
      ],
      "text/plain": [
       "      Day Mins  Eve Mins  CustServ Calls  Int'l Plan  VMail Message      prob  \\\n",
       "2732     216.2     363.7               5           1              0  0.953133   \n",
       "546      279.8     248.7               2           1              0  0.820447   \n",
       "1044     243.2     147.0               4           1              0  0.816245   \n",
       "3255     286.2     187.2               2           1              0  0.772030   \n",
       "3304     186.1     198.6               4           1              0  0.753056   \n",
       "\n",
       "              decile  row  \n",
       "2732  (0.337, 0.953]    1  \n",
       "546   (0.337, 0.953]    2  \n",
       "1044  (0.337, 0.953]    3  \n",
       "3255  (0.337, 0.953]    4  \n",
       "3304  (0.337, 0.953]    5  "
      ]
     },
     "execution_count": 100,
     "metadata": {},
     "output_type": "execute_result"
    }
   ],
   "source": [
    "chart_data.head()"
   ]
  },
  {
   "cell_type": "code",
   "execution_count": 101,
   "metadata": {},
   "outputs": [],
   "source": [
    "chart_data[\"decile1\"] = np.ceil(chart_data[\"row\"]/((chart_data.shape[0]+1)/10))"
   ]
  },
  {
   "cell_type": "code",
   "execution_count": 102,
   "metadata": {},
   "outputs": [
    {
     "data": {
      "text/html": [
       "<div>\n",
       "<style scoped>\n",
       "    .dataframe tbody tr th:only-of-type {\n",
       "        vertical-align: middle;\n",
       "    }\n",
       "\n",
       "    .dataframe tbody tr th {\n",
       "        vertical-align: top;\n",
       "    }\n",
       "\n",
       "    .dataframe thead th {\n",
       "        text-align: right;\n",
       "    }\n",
       "</style>\n",
       "<table border=\"1\" class=\"dataframe\">\n",
       "  <thead>\n",
       "    <tr style=\"text-align: right;\">\n",
       "      <th></th>\n",
       "      <th>Day Mins</th>\n",
       "      <th>Eve Mins</th>\n",
       "      <th>CustServ Calls</th>\n",
       "      <th>Int'l Plan</th>\n",
       "      <th>VMail Message</th>\n",
       "      <th>prob</th>\n",
       "      <th>decile</th>\n",
       "      <th>row</th>\n",
       "      <th>decile1</th>\n",
       "    </tr>\n",
       "  </thead>\n",
       "  <tbody>\n",
       "    <tr>\n",
       "      <th>2732</th>\n",
       "      <td>216.2</td>\n",
       "      <td>363.7</td>\n",
       "      <td>5</td>\n",
       "      <td>1</td>\n",
       "      <td>0</td>\n",
       "      <td>0.953133</td>\n",
       "      <td>(0.337, 0.953]</td>\n",
       "      <td>1</td>\n",
       "      <td>1.0</td>\n",
       "    </tr>\n",
       "    <tr>\n",
       "      <th>546</th>\n",
       "      <td>279.8</td>\n",
       "      <td>248.7</td>\n",
       "      <td>2</td>\n",
       "      <td>1</td>\n",
       "      <td>0</td>\n",
       "      <td>0.820447</td>\n",
       "      <td>(0.337, 0.953]</td>\n",
       "      <td>2</td>\n",
       "      <td>1.0</td>\n",
       "    </tr>\n",
       "    <tr>\n",
       "      <th>1044</th>\n",
       "      <td>243.2</td>\n",
       "      <td>147.0</td>\n",
       "      <td>4</td>\n",
       "      <td>1</td>\n",
       "      <td>0</td>\n",
       "      <td>0.816245</td>\n",
       "      <td>(0.337, 0.953]</td>\n",
       "      <td>3</td>\n",
       "      <td>1.0</td>\n",
       "    </tr>\n",
       "    <tr>\n",
       "      <th>3255</th>\n",
       "      <td>286.2</td>\n",
       "      <td>187.2</td>\n",
       "      <td>2</td>\n",
       "      <td>1</td>\n",
       "      <td>0</td>\n",
       "      <td>0.772030</td>\n",
       "      <td>(0.337, 0.953]</td>\n",
       "      <td>4</td>\n",
       "      <td>1.0</td>\n",
       "    </tr>\n",
       "    <tr>\n",
       "      <th>3304</th>\n",
       "      <td>186.1</td>\n",
       "      <td>198.6</td>\n",
       "      <td>4</td>\n",
       "      <td>1</td>\n",
       "      <td>0</td>\n",
       "      <td>0.753056</td>\n",
       "      <td>(0.337, 0.953]</td>\n",
       "      <td>5</td>\n",
       "      <td>1.0</td>\n",
       "    </tr>\n",
       "  </tbody>\n",
       "</table>\n",
       "</div>"
      ],
      "text/plain": [
       "      Day Mins  Eve Mins  CustServ Calls  Int'l Plan  VMail Message      prob  \\\n",
       "2732     216.2     363.7               5           1              0  0.953133   \n",
       "546      279.8     248.7               2           1              0  0.820447   \n",
       "1044     243.2     147.0               4           1              0  0.816245   \n",
       "3255     286.2     187.2               2           1              0  0.772030   \n",
       "3304     186.1     198.6               4           1              0  0.753056   \n",
       "\n",
       "              decile  row  decile1  \n",
       "2732  (0.337, 0.953]    1      1.0  \n",
       "546   (0.337, 0.953]    2      1.0  \n",
       "1044  (0.337, 0.953]    3      1.0  \n",
       "3255  (0.337, 0.953]    4      1.0  \n",
       "3304  (0.337, 0.953]    5      1.0  "
      ]
     },
     "execution_count": 102,
     "metadata": {},
     "output_type": "execute_result"
    }
   ],
   "source": [
    "chart_data.head()"
   ]
  },
  {
   "cell_type": "code",
   "execution_count": 103,
   "metadata": {},
   "outputs": [
    {
     "data": {
      "text/plain": [
       "2.0     67\n",
       "3.0     67\n",
       "4.0     67\n",
       "5.0     67\n",
       "7.0     67\n",
       "8.0     67\n",
       "9.0     67\n",
       "1.0     66\n",
       "6.0     66\n",
       "10.0    66\n",
       "Name: decile1, dtype: int64"
      ]
     },
     "execution_count": 103,
     "metadata": {},
     "output_type": "execute_result"
    }
   ],
   "source": [
    "chart_data[\"decile1\"].value_counts()"
   ]
  },
  {
   "cell_type": "code",
   "execution_count": 104,
   "metadata": {},
   "outputs": [],
   "source": [
    "chart_data[\"target\"] = y_test"
   ]
  },
  {
   "cell_type": "code",
   "execution_count": 105,
   "metadata": {},
   "outputs": [
    {
     "data": {
      "text/html": [
       "<div>\n",
       "<style scoped>\n",
       "    .dataframe tbody tr th:only-of-type {\n",
       "        vertical-align: middle;\n",
       "    }\n",
       "\n",
       "    .dataframe tbody tr th {\n",
       "        vertical-align: top;\n",
       "    }\n",
       "\n",
       "    .dataframe thead th {\n",
       "        text-align: right;\n",
       "    }\n",
       "</style>\n",
       "<table border=\"1\" class=\"dataframe\">\n",
       "  <thead>\n",
       "    <tr style=\"text-align: right;\">\n",
       "      <th></th>\n",
       "      <th>Day Mins</th>\n",
       "      <th>Eve Mins</th>\n",
       "      <th>CustServ Calls</th>\n",
       "      <th>Int'l Plan</th>\n",
       "      <th>VMail Message</th>\n",
       "      <th>prob</th>\n",
       "      <th>decile</th>\n",
       "      <th>row</th>\n",
       "      <th>decile1</th>\n",
       "      <th>target</th>\n",
       "    </tr>\n",
       "  </thead>\n",
       "  <tbody>\n",
       "    <tr>\n",
       "      <th>2732</th>\n",
       "      <td>216.2</td>\n",
       "      <td>363.7</td>\n",
       "      <td>5</td>\n",
       "      <td>1</td>\n",
       "      <td>0</td>\n",
       "      <td>0.953133</td>\n",
       "      <td>(0.337, 0.953]</td>\n",
       "      <td>1</td>\n",
       "      <td>1.0</td>\n",
       "      <td>1</td>\n",
       "    </tr>\n",
       "    <tr>\n",
       "      <th>546</th>\n",
       "      <td>279.8</td>\n",
       "      <td>248.7</td>\n",
       "      <td>2</td>\n",
       "      <td>1</td>\n",
       "      <td>0</td>\n",
       "      <td>0.820447</td>\n",
       "      <td>(0.337, 0.953]</td>\n",
       "      <td>2</td>\n",
       "      <td>1.0</td>\n",
       "      <td>1</td>\n",
       "    </tr>\n",
       "    <tr>\n",
       "      <th>1044</th>\n",
       "      <td>243.2</td>\n",
       "      <td>147.0</td>\n",
       "      <td>4</td>\n",
       "      <td>1</td>\n",
       "      <td>0</td>\n",
       "      <td>0.816245</td>\n",
       "      <td>(0.337, 0.953]</td>\n",
       "      <td>3</td>\n",
       "      <td>1.0</td>\n",
       "      <td>0</td>\n",
       "    </tr>\n",
       "    <tr>\n",
       "      <th>3255</th>\n",
       "      <td>286.2</td>\n",
       "      <td>187.2</td>\n",
       "      <td>2</td>\n",
       "      <td>1</td>\n",
       "      <td>0</td>\n",
       "      <td>0.772030</td>\n",
       "      <td>(0.337, 0.953]</td>\n",
       "      <td>4</td>\n",
       "      <td>1.0</td>\n",
       "      <td>1</td>\n",
       "    </tr>\n",
       "    <tr>\n",
       "      <th>3304</th>\n",
       "      <td>186.1</td>\n",
       "      <td>198.6</td>\n",
       "      <td>4</td>\n",
       "      <td>1</td>\n",
       "      <td>0</td>\n",
       "      <td>0.753056</td>\n",
       "      <td>(0.337, 0.953]</td>\n",
       "      <td>5</td>\n",
       "      <td>1.0</td>\n",
       "      <td>1</td>\n",
       "    </tr>\n",
       "  </tbody>\n",
       "</table>\n",
       "</div>"
      ],
      "text/plain": [
       "      Day Mins  Eve Mins  CustServ Calls  Int'l Plan  VMail Message      prob  \\\n",
       "2732     216.2     363.7               5           1              0  0.953133   \n",
       "546      279.8     248.7               2           1              0  0.820447   \n",
       "1044     243.2     147.0               4           1              0  0.816245   \n",
       "3255     286.2     187.2               2           1              0  0.772030   \n",
       "3304     186.1     198.6               4           1              0  0.753056   \n",
       "\n",
       "              decile  row  decile1  target  \n",
       "2732  (0.337, 0.953]    1      1.0       1  \n",
       "546   (0.337, 0.953]    2      1.0       1  \n",
       "1044  (0.337, 0.953]    3      1.0       0  \n",
       "3255  (0.337, 0.953]    4      1.0       1  \n",
       "3304  (0.337, 0.953]    5      1.0       1  "
      ]
     },
     "execution_count": 105,
     "metadata": {},
     "output_type": "execute_result"
    }
   ],
   "source": [
    "chart_data.head()"
   ]
  },
  {
   "cell_type": "code",
   "execution_count": 107,
   "metadata": {},
   "outputs": [
    {
     "name": "stderr",
     "output_type": "stream",
     "text": [
      "C:\\Users\\parth\\AppData\\Local\\Temp\\ipykernel_13404\\201247181.py:1: FutureWarning: ['decile'] did not aggregate successfully. If any error is raised this will raise in a future version of pandas. Drop these columns/ops to avoid this warning.\n",
      "  lift = chart_data.groupby(\"decile1\").agg( #group by deciles of predicted probabilities\n"
     ]
    },
    {
     "data": {
      "text/html": [
       "<div>\n",
       "<style scoped>\n",
       "    .dataframe tbody tr th:only-of-type {\n",
       "        vertical-align: middle;\n",
       "    }\n",
       "\n",
       "    .dataframe tbody tr th {\n",
       "        vertical-align: top;\n",
       "    }\n",
       "\n",
       "    .dataframe thead th {\n",
       "        text-align: right;\n",
       "    }\n",
       "</style>\n",
       "<table border=\"1\" class=\"dataframe\">\n",
       "  <thead>\n",
       "    <tr style=\"text-align: right;\">\n",
       "      <th></th>\n",
       "      <th>Number of customers</th>\n",
       "      <th>Number of left customers</th>\n",
       "      <th>Cumulativel left</th>\n",
       "      <th>Percent of Events</th>\n",
       "      <th>Gain</th>\n",
       "      <th>Lift</th>\n",
       "    </tr>\n",
       "    <tr>\n",
       "      <th>decile1</th>\n",
       "      <th></th>\n",
       "      <th></th>\n",
       "      <th></th>\n",
       "      <th></th>\n",
       "      <th></th>\n",
       "      <th></th>\n",
       "    </tr>\n",
       "  </thead>\n",
       "  <tbody>\n",
       "    <tr>\n",
       "      <th>1.0</th>\n",
       "      <td>66</td>\n",
       "      <td>27</td>\n",
       "      <td>27</td>\n",
       "      <td>27.551020</td>\n",
       "      <td>27.551020</td>\n",
       "      <td>2.755102</td>\n",
       "    </tr>\n",
       "    <tr>\n",
       "      <th>2.0</th>\n",
       "      <td>67</td>\n",
       "      <td>23</td>\n",
       "      <td>50</td>\n",
       "      <td>23.469388</td>\n",
       "      <td>51.020408</td>\n",
       "      <td>2.551020</td>\n",
       "    </tr>\n",
       "    <tr>\n",
       "      <th>3.0</th>\n",
       "      <td>67</td>\n",
       "      <td>17</td>\n",
       "      <td>67</td>\n",
       "      <td>17.346939</td>\n",
       "      <td>68.367347</td>\n",
       "      <td>2.278912</td>\n",
       "    </tr>\n",
       "    <tr>\n",
       "      <th>4.0</th>\n",
       "      <td>67</td>\n",
       "      <td>14</td>\n",
       "      <td>81</td>\n",
       "      <td>14.285714</td>\n",
       "      <td>82.653061</td>\n",
       "      <td>2.066327</td>\n",
       "    </tr>\n",
       "    <tr>\n",
       "      <th>5.0</th>\n",
       "      <td>67</td>\n",
       "      <td>6</td>\n",
       "      <td>87</td>\n",
       "      <td>6.122449</td>\n",
       "      <td>88.775510</td>\n",
       "      <td>1.775510</td>\n",
       "    </tr>\n",
       "    <tr>\n",
       "      <th>6.0</th>\n",
       "      <td>66</td>\n",
       "      <td>4</td>\n",
       "      <td>91</td>\n",
       "      <td>4.081633</td>\n",
       "      <td>92.857143</td>\n",
       "      <td>1.547619</td>\n",
       "    </tr>\n",
       "    <tr>\n",
       "      <th>7.0</th>\n",
       "      <td>67</td>\n",
       "      <td>2</td>\n",
       "      <td>93</td>\n",
       "      <td>2.040816</td>\n",
       "      <td>94.897959</td>\n",
       "      <td>1.355685</td>\n",
       "    </tr>\n",
       "    <tr>\n",
       "      <th>8.0</th>\n",
       "      <td>67</td>\n",
       "      <td>3</td>\n",
       "      <td>96</td>\n",
       "      <td>3.061224</td>\n",
       "      <td>97.959184</td>\n",
       "      <td>1.224490</td>\n",
       "    </tr>\n",
       "    <tr>\n",
       "      <th>9.0</th>\n",
       "      <td>67</td>\n",
       "      <td>1</td>\n",
       "      <td>97</td>\n",
       "      <td>1.020408</td>\n",
       "      <td>98.979592</td>\n",
       "      <td>1.099773</td>\n",
       "    </tr>\n",
       "    <tr>\n",
       "      <th>10.0</th>\n",
       "      <td>66</td>\n",
       "      <td>1</td>\n",
       "      <td>98</td>\n",
       "      <td>1.020408</td>\n",
       "      <td>100.000000</td>\n",
       "      <td>1.000000</td>\n",
       "    </tr>\n",
       "  </tbody>\n",
       "</table>\n",
       "</div>"
      ],
      "text/plain": [
       "         Number of customers  Number of left customers  Cumulativel left  \\\n",
       "decile1                                                                    \n",
       "1.0                       66                        27                27   \n",
       "2.0                       67                        23                50   \n",
       "3.0                       67                        17                67   \n",
       "4.0                       67                        14                81   \n",
       "5.0                       67                         6                87   \n",
       "6.0                       66                         4                91   \n",
       "7.0                       67                         2                93   \n",
       "8.0                       67                         3                96   \n",
       "9.0                       67                         1                97   \n",
       "10.0                      66                         1                98   \n",
       "\n",
       "         Percent of Events        Gain      Lift  \n",
       "decile1                                           \n",
       "1.0              27.551020   27.551020  2.755102  \n",
       "2.0              23.469388   51.020408  2.551020  \n",
       "3.0              17.346939   68.367347  2.278912  \n",
       "4.0              14.285714   82.653061  2.066327  \n",
       "5.0               6.122449   88.775510  1.775510  \n",
       "6.0               4.081633   92.857143  1.547619  \n",
       "7.0               2.040816   94.897959  1.355685  \n",
       "8.0               3.061224   97.959184  1.224490  \n",
       "9.0               1.020408   98.979592  1.099773  \n",
       "10.0              1.020408  100.000000  1.000000  "
      ]
     },
     "execution_count": 107,
     "metadata": {},
     "output_type": "execute_result"
    }
   ],
   "source": [
    "lift = chart_data.groupby(\"decile1\").agg( #group by deciles of predicted probabilities\n",
    "    [\n",
    "    \"count\", # the total number of customers (data points) in the decile\n",
    "    \"sum\", # the total number of bad customers (Risk -1)\n",
    "    ]\n",
    ")[\"target\"].sort_index(ascending=True)\n",
    "lift.columns = [\"Number of customers\",\"Number of left customers\"]\n",
    "lift[\"Cumulativel left\"] = lift[\"Number of left customers\"].cumsum()\n",
    "lift[\"Percent of Events\"] = lift[\"Number of left customers\"]/lift[\"Number of left customers\"].sum()*100\n",
    "lift[\"Gain\"] = lift[\"Percent of Events\"].cumsum()\n",
    "lift[\"Lift\"] = lift[\"Gain\"]/np.array(range(10,100+10,10))\n",
    "lift.head(10)"
   ]
  },
  {
   "cell_type": "code",
   "execution_count": 108,
   "metadata": {},
   "outputs": [
    {
     "data": {
      "text/plain": [
       "<AxesSubplot: xlabel='decile1', ylabel='count'>"
      ]
     },
     "execution_count": 108,
     "metadata": {},
     "output_type": "execute_result"
    },
    {
     "data": {
      "image/png": "[encoded data removed]",
      "text/plain": [
       "<Figure size 432x288 with 1 Axes>"
      ]
     },
     "metadata": {
      "needs_background": "light"
     },
     "output_type": "display_data"
    }
   ],
   "source": [
    "sns.countplot(x = \"decile1\",hue=\"target\",data=chart_data)"
   ]
  },
  {
   "attachments": {},
   "cell_type": "markdown",
   "metadata": {},
   "source": [
    "![](8.png)"
   ]
  },
  {
   "cell_type": "code",
   "execution_count": 110,
   "metadata": {},
   "outputs": [],
   "source": [
    "# precision: number of times your predicted is correct \n",
    "#            therefore I Predicted in above example that it will rain two times(wednesday and thursday) \n",
    "#            but truly it rained only once(wednesday)\n",
    "#            therfore precision is 1/2\n",
    "#            number of times you predicted and how many times you were correct\n",
    "\n",
    "# for recall -> truly it rained two times(wednesday and friday),    \n",
    "#               and out of that how many times you predicted that it would rain(only wednesday)\n",
    "#             therefore recall is (1/2)\n",
    "#             out of all the events happened -> how many you were able to pick "
   ]
  }
 ],
 "metadata": {
  "kernelspec": {
   "display_name": "Python 3 (ipykernel)",
   "language": "python",
   "name": "python3"
  },
  "language_info": {
   "codemirror_mode": {
    "name": "ipython",
    "version": 3
   },
   "file_extension": ".py",
   "mimetype": "text/x-python",
   "name": "python",
   "nbconvert_exporter": "python",
   "pygments_lexer": "ipython3",
   "version": "3.9.6"
  }
 },
 "nbformat": 4,
 "nbformat_minor": 2
}
